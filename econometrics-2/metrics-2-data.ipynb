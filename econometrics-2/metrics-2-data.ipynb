{
 "cells": [
  {
   "cell_type": "markdown",
   "id": "fcba9f4d-1965-4879-8ee6-268e402b741c",
   "metadata": {},
   "source": [
    "# Python translation of R code for econometrics II examples"
   ]
  },
  {
   "cell_type": "code",
   "execution_count": 1,
   "id": "7104c4c6-cdc3-40e5-84a0-4ca16fb04aec",
   "metadata": {},
   "outputs": [],
   "source": [
    "import pandas as pd\n",
    "import seaborn as sns"
   ]
  },
  {
   "cell_type": "code",
   "execution_count": 2,
   "id": "0c0f8aac-5978-4294-bda2-8df418e98a54",
   "metadata": {},
   "outputs": [],
   "source": [
    "# read in the data\n",
    "df = pd.read_stata('https://data.nber.org/morg/annual/morg20.dta')"
   ]
  },
  {
   "cell_type": "code",
   "execution_count": 76,
   "id": "fba7a15e-818b-4b76-ba31-f3d57f11b969",
   "metadata": {},
   "outputs": [],
   "source": [
    "# remove all observations (rows) with at least one na value\n",
    "df_ = df.dropna()"
   ]
  },
  {
   "cell_type": "code",
   "execution_count": 77,
   "id": "1b9c27c5-964c-4ac4-8147-90ffcd8914d3",
   "metadata": {},
   "outputs": [],
   "source": [
    "# select relevant columns\n",
    "df_ = df[['uhourse','earnwke','sex','grade92','age']].copy()"
   ]
  },
  {
   "cell_type": "code",
   "execution_count": 78,
   "id": "067ef4ff-fa1b-4578-9ad4-fa5d18ba00ea",
   "metadata": {},
   "outputs": [],
   "source": [
    "# get the hourly wage (weekly wage / number of hours per week)\n",
    "# drop values of > 50'000 / week\n",
    "df_['wage'] = df_.earnwke/df.uhourse\n",
    "df_ = df_[df_.wage < 50000].copy()"
   ]
  },
  {
   "cell_type": "code",
   "execution_count": 79,
   "id": "2602c6aa-518a-421f-a3d1-82aa4e0b2651",
   "metadata": {},
   "outputs": [],
   "source": [
    "# select number of hours worked in a week > 10, aged between 25 and 65\n",
    "df_ = df_.loc[(df.uhourse > 10) & (df.age > 24) & (df.age < 66)].copy()"
   ]
  },
  {
   "cell_type": "code",
   "execution_count": 80,
   "id": "8e4fa087-1b79-4d77-ae28-25ebc5adaf29",
   "metadata": {},
   "outputs": [],
   "source": [
    "# correct education to standard grade levels\n",
    "edukey = {'31':0, '32':2.5, '33':5.5, '34':7.5, '35':9, '36':10, '37':11, '38':12,'39':12, '40':13, '41':14,'42':14,'43':16, '44':18,'45':18,'46':18}\n",
    "df_.grade92 = df_.grade92.apply(lambda x: str(x))\n",
    "mylist = []\n",
    "for i in df_.grade92:\n",
    "    try:\n",
    "        a = edukey[i]\n",
    "        mylist.append(a)\n",
    "    except:\n",
    "        a = 'NAN'\n",
    "        mylist.append(a)\n",
    "\n",
    "df_['edu_real'] = mylist\n",
    "\n",
    "\n",
    "# combine all observations with less than 7.5 years education into one category.\n",
    "def fix_the_ed(x):\n",
    "    if (x <= 7.5):\n",
    "        return 7.5\n",
    "    else:\n",
    "        return x\n",
    "df_.edu_real = df_.edu_real.apply(lambda x: fix_the_ed(x))"
   ]
  },
  {
   "cell_type": "code",
   "execution_count": 81,
   "id": "4e51cad5-1746-442c-b33a-4a2de08a9b37",
   "metadata": {},
   "outputs": [],
   "source": [
    "grouped = df_.groupby(['sex','edu_real']).size()\n",
    "size_men = len(df_[df_.sex == 1])\n",
    "size_women = len(df_[df_.sex == 2])"
   ]
  },
  {
   "cell_type": "code",
   "execution_count": 82,
   "id": "328e85e8-6652-47da-8974-55c4a4c82817",
   "metadata": {},
   "outputs": [
    {
     "data": {
      "text/html": [
       "<div>\n",
       "<style scoped>\n",
       "    .dataframe tbody tr th:only-of-type {\n",
       "        vertical-align: middle;\n",
       "    }\n",
       "\n",
       "    .dataframe tbody tr th {\n",
       "        vertical-align: top;\n",
       "    }\n",
       "\n",
       "    .dataframe thead th {\n",
       "        text-align: right;\n",
       "    }\n",
       "</style>\n",
       "<table border=\"1\" class=\"dataframe\">\n",
       "  <thead>\n",
       "    <tr style=\"text-align: right;\">\n",
       "      <th></th>\n",
       "      <th>7.5</th>\n",
       "      <th>9.0</th>\n",
       "      <th>10.0</th>\n",
       "      <th>11.0</th>\n",
       "      <th>12.0</th>\n",
       "      <th>13.0</th>\n",
       "      <th>14.0</th>\n",
       "      <th>16.0</th>\n",
       "      <th>18.0</th>\n",
       "    </tr>\n",
       "  </thead>\n",
       "  <tbody>\n",
       "    <tr>\n",
       "      <th>men</th>\n",
       "      <td>1227</td>\n",
       "      <td>473</td>\n",
       "      <td>426</td>\n",
       "      <td>648</td>\n",
       "      <td>15355</td>\n",
       "      <td>7896</td>\n",
       "      <td>5773</td>\n",
       "      <td>13769</td>\n",
       "      <td>8153</td>\n",
       "    </tr>\n",
       "    <tr>\n",
       "      <th>women</th>\n",
       "      <td>676</td>\n",
       "      <td>289</td>\n",
       "      <td>303</td>\n",
       "      <td>417</td>\n",
       "      <td>11088</td>\n",
       "      <td>7348</td>\n",
       "      <td>6442</td>\n",
       "      <td>14786</td>\n",
       "      <td>9895</td>\n",
       "    </tr>\n",
       "  </tbody>\n",
       "</table>\n",
       "</div>"
      ],
      "text/plain": [
       "       7.5   9.0   10.0  11.0   12.0  13.0  14.0   16.0  18.0\n",
       "men    1227   473   426   648  15355  7896  5773  13769  8153\n",
       "women   676   289   303   417  11088  7348  6442  14786  9895"
      ]
     },
     "execution_count": 82,
     "metadata": {},
     "output_type": "execute_result"
    }
   ],
   "source": [
    "# men and women frequencies\n",
    "table_1=grouped.reset_index()\n",
    "table_1 = table_1.pivot(index='sex',columns = 'edu_real')\n",
    "table_1.columns = [x[1] for x in table_1.columns]\n",
    "table_1.index = ['men','women']\n",
    "table_1"
   ]
  },
  {
   "cell_type": "code",
   "execution_count": 86,
   "id": "f8ffca5c-fa15-492e-b9d4-5cbe7ec4deb8",
   "metadata": {},
   "outputs": [
    {
     "data": {
      "text/html": [
       "<div>\n",
       "<style scoped>\n",
       "    .dataframe tbody tr th:only-of-type {\n",
       "        vertical-align: middle;\n",
       "    }\n",
       "\n",
       "    .dataframe tbody tr th {\n",
       "        vertical-align: top;\n",
       "    }\n",
       "\n",
       "    .dataframe thead th {\n",
       "        text-align: right;\n",
       "    }\n",
       "</style>\n",
       "<table border=\"1\" class=\"dataframe\">\n",
       "  <thead>\n",
       "    <tr style=\"text-align: right;\">\n",
       "      <th></th>\n",
       "      <th>7.5</th>\n",
       "      <th>9.0</th>\n",
       "      <th>10.0</th>\n",
       "      <th>11.0</th>\n",
       "      <th>12.0</th>\n",
       "      <th>13.0</th>\n",
       "      <th>14.0</th>\n",
       "      <th>16.0</th>\n",
       "      <th>18.0</th>\n",
       "    </tr>\n",
       "  </thead>\n",
       "  <tbody>\n",
       "    <tr>\n",
       "      <th>men</th>\n",
       "      <td>2.284066</td>\n",
       "      <td>0.880491</td>\n",
       "      <td>0.793001</td>\n",
       "      <td>1.206255</td>\n",
       "      <td>28.583395</td>\n",
       "      <td>14.698436</td>\n",
       "      <td>10.746463</td>\n",
       "      <td>25.63105</td>\n",
       "      <td>15.176843</td>\n",
       "    </tr>\n",
       "    <tr>\n",
       "      <th>women</th>\n",
       "      <td>1.319179</td>\n",
       "      <td>0.563968</td>\n",
       "      <td>0.591289</td>\n",
       "      <td>0.813754</td>\n",
       "      <td>21.637655</td>\n",
       "      <td>14.339240</td>\n",
       "      <td>12.571228</td>\n",
       "      <td>28.85411</td>\n",
       "      <td>19.309578</td>\n",
       "    </tr>\n",
       "  </tbody>\n",
       "</table>\n",
       "</div>"
      ],
      "text/plain": [
       "           7.5       9.0       10.0      11.0       12.0       13.0  \\\n",
       "men    2.284066  0.880491  0.793001  1.206255  28.583395  14.698436   \n",
       "women  1.319179  0.563968  0.591289  0.813754  21.637655  14.339240   \n",
       "\n",
       "            14.0      16.0       18.0  \n",
       "men    10.746463  25.63105  15.176843  \n",
       "women  12.571228  28.85411  19.309578  "
      ]
     },
     "execution_count": 86,
     "metadata": {},
     "output_type": "execute_result"
    }
   ],
   "source": [
    "# in percentages\n",
    "table_1_percent = (table_1.div(table_1.sum(axis=1), axis=0))*100\n",
    "table_1_percent"
   ]
  },
  {
   "cell_type": "code",
   "execution_count": 71,
   "id": "c4db0a71-33d0-43f7-95f4-d2712cc7cf4c",
   "metadata": {},
   "outputs": [
    {
     "data": {
      "text/html": [
       "<div>\n",
       "<style scoped>\n",
       "    .dataframe tbody tr th:only-of-type {\n",
       "        vertical-align: middle;\n",
       "    }\n",
       "\n",
       "    .dataframe tbody tr th {\n",
       "        vertical-align: top;\n",
       "    }\n",
       "\n",
       "    .dataframe thead th {\n",
       "        text-align: right;\n",
       "    }\n",
       "</style>\n",
       "<table border=\"1\" class=\"dataframe\">\n",
       "  <thead>\n",
       "    <tr style=\"text-align: right;\">\n",
       "      <th></th>\n",
       "      <th>uhourse</th>\n",
       "      <th>earnwke</th>\n",
       "      <th>sex</th>\n",
       "      <th>grade92</th>\n",
       "      <th>age</th>\n",
       "      <th>wage</th>\n",
       "      <th>edu_real</th>\n",
       "    </tr>\n",
       "  </thead>\n",
       "  <tbody>\n",
       "    <tr>\n",
       "      <th>1</th>\n",
       "      <td>40.0</td>\n",
       "      <td>800.00</td>\n",
       "      <td>1</td>\n",
       "      <td>39</td>\n",
       "      <td>50</td>\n",
       "      <td>20.000000</td>\n",
       "      <td>12.0</td>\n",
       "    </tr>\n",
       "    <tr>\n",
       "      <th>14</th>\n",
       "      <td>35.0</td>\n",
       "      <td>387.50</td>\n",
       "      <td>2</td>\n",
       "      <td>39</td>\n",
       "      <td>26</td>\n",
       "      <td>11.071429</td>\n",
       "      <td>12.0</td>\n",
       "    </tr>\n",
       "    <tr>\n",
       "      <th>15</th>\n",
       "      <td>40.0</td>\n",
       "      <td>2269.23</td>\n",
       "      <td>1</td>\n",
       "      <td>39</td>\n",
       "      <td>44</td>\n",
       "      <td>56.730750</td>\n",
       "      <td>12.0</td>\n",
       "    </tr>\n",
       "    <tr>\n",
       "      <th>16</th>\n",
       "      <td>40.0</td>\n",
       "      <td>769.23</td>\n",
       "      <td>2</td>\n",
       "      <td>43</td>\n",
       "      <td>43</td>\n",
       "      <td>19.230750</td>\n",
       "      <td>16.0</td>\n",
       "    </tr>\n",
       "    <tr>\n",
       "      <th>18</th>\n",
       "      <td>50.0</td>\n",
       "      <td>1267.50</td>\n",
       "      <td>1</td>\n",
       "      <td>40</td>\n",
       "      <td>32</td>\n",
       "      <td>25.350000</td>\n",
       "      <td>13.0</td>\n",
       "    </tr>\n",
       "  </tbody>\n",
       "</table>\n",
       "</div>"
      ],
      "text/plain": [
       "    uhourse  earnwke  sex grade92  age       wage  edu_real\n",
       "1      40.0   800.00    1      39   50  20.000000      12.0\n",
       "14     35.0   387.50    2      39   26  11.071429      12.0\n",
       "15     40.0  2269.23    1      39   44  56.730750      12.0\n",
       "16     40.0   769.23    2      43   43  19.230750      16.0\n",
       "18     50.0  1267.50    1      40   32  25.350000      13.0"
      ]
     },
     "execution_count": 71,
     "metadata": {},
     "output_type": "execute_result"
    }
   ],
   "source": [
    "## make histogram... to be continued"
   ]
  },
  {
   "cell_type": "code",
   "execution_count": 67,
   "id": "d5340c19-53e9-4814-83d7-5b7dc10cc614",
   "metadata": {},
   "outputs": [],
   "source": [
    "sns.hist_plot()"
   ]
  },
  {
   "cell_type": "code",
   "execution_count": 62,
   "id": "90286892-8475-4990-af8b-b7cbcf1f6749",
   "metadata": {},
   "outputs": [
    {
     "data": {
      "text/html": [
       "<div>\n",
       "<style scoped>\n",
       "    .dataframe tbody tr th:only-of-type {\n",
       "        vertical-align: middle;\n",
       "    }\n",
       "\n",
       "    .dataframe tbody tr th {\n",
       "        vertical-align: top;\n",
       "    }\n",
       "\n",
       "    .dataframe thead th {\n",
       "        text-align: right;\n",
       "    }\n",
       "</style>\n",
       "<table border=\"1\" class=\"dataframe\">\n",
       "  <thead>\n",
       "    <tr style=\"text-align: right;\">\n",
       "      <th></th>\n",
       "      <th>7.5</th>\n",
       "      <th>9.0</th>\n",
       "      <th>10.0</th>\n",
       "      <th>11.0</th>\n",
       "      <th>12.0</th>\n",
       "      <th>13.0</th>\n",
       "      <th>14.0</th>\n",
       "      <th>16.0</th>\n",
       "      <th>18.0</th>\n",
       "    </tr>\n",
       "    <tr>\n",
       "      <th>sex</th>\n",
       "      <th></th>\n",
       "      <th></th>\n",
       "      <th></th>\n",
       "      <th></th>\n",
       "      <th></th>\n",
       "      <th></th>\n",
       "      <th></th>\n",
       "      <th></th>\n",
       "      <th></th>\n",
       "    </tr>\n",
       "  </thead>\n",
       "  <tbody>\n",
       "    <tr>\n",
       "      <th>1</th>\n",
       "      <td>1466</td>\n",
       "      <td>563</td>\n",
       "      <td>516</td>\n",
       "      <td>723</td>\n",
       "      <td>17437</td>\n",
       "      <td>8954</td>\n",
       "      <td>6510</td>\n",
       "      <td>15479</td>\n",
       "      <td>9161</td>\n",
       "    </tr>\n",
       "    <tr>\n",
       "      <th>2</th>\n",
       "      <td>733</td>\n",
       "      <td>310</td>\n",
       "      <td>315</td>\n",
       "      <td>443</td>\n",
       "      <td>11909</td>\n",
       "      <td>7972</td>\n",
       "      <td>6972</td>\n",
       "      <td>15969</td>\n",
       "      <td>10619</td>\n",
       "    </tr>\n",
       "  </tbody>\n",
       "</table>\n",
       "</div>"
      ],
      "text/plain": [
       "     7.5   9.0   10.0  11.0   12.0  13.0  14.0   16.0   18.0\n",
       "sex                                                         \n",
       "1    1466   563   516   723  17437  8954  6510  15479   9161\n",
       "2     733   310   315   443  11909  7972  6972  15969  10619"
      ]
     },
     "execution_count": 62,
     "metadata": {},
     "output_type": "execute_result"
    }
   ],
   "source": [
    "table_1_percent = "
   ]
  },
  {
   "cell_type": "code",
   "execution_count": 88,
   "id": "f5b49134-1318-4afb-a1f5-259def4faf2a",
   "metadata": {},
   "outputs": [],
   "source": [
    "df_.reset_index(inplace=True, drop = False)"
   ]
  },
  {
   "cell_type": "code",
   "execution_count": 93,
   "id": "98e5b4bb-6221-4626-ab3e-058eb6cdc634",
   "metadata": {},
   "outputs": [],
   "source": [
    "melted = df_.melt(id_vars=['sex','edu_real'],value_vars = 'wage')"
   ]
  },
  {
   "cell_type": "code",
   "execution_count": 98,
   "id": "d7fcb82e-72ac-4491-9586-4b5264b73d60",
   "metadata": {},
   "outputs": [
    {
     "data": {
      "text/plain": [
       "<AxesSubplot:xlabel='edu_real', ylabel='Count'>"
      ]
     },
     "execution_count": 98,
     "metadata": {},
     "output_type": "execute_result"
    },
    {
     "data": {
      "image/png": "[encoded data removed]",
      "text/plain": [
       "<Figure size 640x480 with 1 Axes>"
      ]
     },
     "metadata": {},
     "output_type": "display_data"
    }
   ],
   "source": [
    "# histogran - need to look at output!\n",
    "sns.histplot(data = melted,x = 'edu_real', hue = 'sex')"
   ]
  },
  {
   "cell_type": "code",
   "execution_count": null,
   "id": "1d8477b1-8c9f-452f-82bb-116dd6ddc960",
   "metadata": {},
   "outputs": [],
   "source": []
  }
 ],
 "metadata": {
  "kernelspec": {
   "display_name": "mas-clas",
   "language": "python",
   "name": "master-class"
  },
  "language_info": {
   "codemirror_mode": {
    "name": "ipython",
    "version": 3
   },
   "file_extension": ".py",
   "mimetype": "text/x-python",
   "name": "python",
   "nbconvert_exporter": "python",
   "pygments_lexer": "ipython3",
   "version": "3.9.12"
  }
 },
 "nbformat": 4,
 "nbformat_minor": 5
}
