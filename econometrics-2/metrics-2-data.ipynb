{
 "cells": [
  {
   "cell_type": "markdown",
   "id": "fcba9f4d-1965-4879-8ee6-268e402b741c",
   "metadata": {},
   "source": [
    "# Python translation of R code for econometrics II examples"
   ]
  },
  {
   "cell_type": "code",
   "execution_count": 1,
   "id": "7104c4c6-cdc3-40e5-84a0-4ca16fb04aec",
   "metadata": {},
   "outputs": [],
   "source": [
    "import pandas as pd\n",
    "import seaborn as sns"
   ]
  },
  {
   "cell_type": "code",
   "execution_count": 2,
   "id": "0c0f8aac-5978-4294-bda2-8df418e98a54",
   "metadata": {},
   "outputs": [],
   "source": [
    "# read in the data\n",
    "df = pd.read_stata('https://data.nber.org/morg/annual/morg20.dta')"
   ]
  },
  {
   "cell_type": "code",
   "execution_count": 3,
   "id": "fba7a15e-818b-4b76-ba31-f3d57f11b969",
   "metadata": {},
   "outputs": [],
   "source": [
    "# remove all observations (rows) with at least one na value"
   ]
  },
  {
   "cell_type": "code",
   "execution_count": null,
   "id": "f10a418d-6dc1-4d4b-95b1-e3eac554fede",
   "metadata": {},
   "outputs": [],
   "source": []
  },
  {
   "cell_type": "code",
   "execution_count": 5,
   "id": "1b9c27c5-964c-4ac4-8147-90ffcd8914d3",
   "metadata": {},
   "outputs": [],
   "source": [
    "# select relevant columns\n",
    "df_ = df[['uhourse','earnwke','sex','grade92','age']].copy()\n",
    "df_ = df_.dropna()"
   ]
  },
  {
   "cell_type": "code",
   "execution_count": 6,
   "id": "067ef4ff-fa1b-4578-9ad4-fa5d18ba00ea",
   "metadata": {},
   "outputs": [],
   "source": [
    "# get the hourly wage (weekly wage / number of hours per week)\n",
    "# drop values of > 50'000 / week\n",
    "df_['wage'] = df_.earnwke/df.uhourse\n",
    "df_ = df_[df_.wage < 50000].copy()"
   ]
  },
  {
   "cell_type": "code",
   "execution_count": 7,
   "id": "2602c6aa-518a-421f-a3d1-82aa4e0b2651",
   "metadata": {},
   "outputs": [],
   "source": [
    "# select number of hours worked in a week > 10, aged between 25 and 65\n",
    "df_ = df_.loc[(df_.uhourse > 10) & (df_.age > 24) & (df_.age < 66)].copy()"
   ]
  },
  {
   "cell_type": "code",
   "execution_count": 8,
   "id": "8e4fa087-1b79-4d77-ae28-25ebc5adaf29",
   "metadata": {},
   "outputs": [],
   "source": [
    "# correct education to standard grade levels\n",
    "edukey = {'31':0, '32':2.5, '33':5.5, '34':7.5, '35':9, '36':10, '37':11, '38':12,'39':12, '40':13, '41':14,'42':14,'43':16, '44':18,'45':18,'46':18}\n",
    "df_.grade92 = df_.grade92.apply(lambda x: str(x))\n",
    "mylist = []\n",
    "for i in df_.grade92:\n",
    "    try:\n",
    "        a = edukey[i]\n",
    "        mylist.append(a)\n",
    "    except:\n",
    "        a = 'NAN'\n",
    "        mylist.append(a)\n",
    "\n",
    "df_['edu_real'] = mylist\n",
    "\n",
    "\n",
    "# combine all observations with less than 7.5 years education into one category.\n",
    "def fix_the_ed(x):\n",
    "    if (x <= 7.5):\n",
    "        return 7.5\n",
    "    else:\n",
    "        return x\n",
    "df_.edu_real = df_.edu_real.apply(lambda x: fix_the_ed(x))"
   ]
  },
  {
   "cell_type": "code",
   "execution_count": 9,
   "id": "9eba841c-ea76-4663-ad39-a3b9dec4affa",
   "metadata": {},
   "outputs": [],
   "source": [
    "#df_.to_csv('data/data-1.csv')"
   ]
  },
  {
   "cell_type": "code",
   "execution_count": 10,
   "id": "afd1b31e-9f5e-4ede-9b8c-c87920fa0d27",
   "metadata": {},
   "outputs": [],
   "source": [
    "table_1 = pd.DataFrame(df_.groupby(['edu_real']).size())"
   ]
  },
  {
   "cell_type": "code",
   "execution_count": 11,
   "id": "d210cdbc-25bd-404e-a953-b05ded8698c0",
   "metadata": {},
   "outputs": [
    {
     "data": {
      "text/html": [
       "<div>\n",
       "<style scoped>\n",
       "    .dataframe tbody tr th:only-of-type {\n",
       "        vertical-align: middle;\n",
       "    }\n",
       "\n",
       "    .dataframe tbody tr th {\n",
       "        vertical-align: top;\n",
       "    }\n",
       "\n",
       "    .dataframe thead th {\n",
       "        text-align: right;\n",
       "    }\n",
       "</style>\n",
       "<table border=\"1\" class=\"dataframe\">\n",
       "  <thead>\n",
       "    <tr style=\"text-align: right;\">\n",
       "      <th></th>\n",
       "      <th>frequency</th>\n",
       "      <th>sample probability</th>\n",
       "    </tr>\n",
       "    <tr>\n",
       "      <th>edu_real</th>\n",
       "      <th></th>\n",
       "      <th></th>\n",
       "    </tr>\n",
       "  </thead>\n",
       "  <tbody>\n",
       "    <tr>\n",
       "      <th>7.5</th>\n",
       "      <td>1903</td>\n",
       "      <td>0.018130</td>\n",
       "    </tr>\n",
       "    <tr>\n",
       "      <th>9.0</th>\n",
       "      <td>762</td>\n",
       "      <td>0.007260</td>\n",
       "    </tr>\n",
       "    <tr>\n",
       "      <th>10.0</th>\n",
       "      <td>729</td>\n",
       "      <td>0.006945</td>\n",
       "    </tr>\n",
       "    <tr>\n",
       "      <th>11.0</th>\n",
       "      <td>1065</td>\n",
       "      <td>0.010146</td>\n",
       "    </tr>\n",
       "    <tr>\n",
       "      <th>12.0</th>\n",
       "      <td>26443</td>\n",
       "      <td>0.251924</td>\n",
       "    </tr>\n",
       "    <tr>\n",
       "      <th>13.0</th>\n",
       "      <td>15244</td>\n",
       "      <td>0.145231</td>\n",
       "    </tr>\n",
       "    <tr>\n",
       "      <th>14.0</th>\n",
       "      <td>12215</td>\n",
       "      <td>0.116373</td>\n",
       "    </tr>\n",
       "    <tr>\n",
       "      <th>16.0</th>\n",
       "      <td>28555</td>\n",
       "      <td>0.272046</td>\n",
       "    </tr>\n",
       "    <tr>\n",
       "      <th>18.0</th>\n",
       "      <td>18048</td>\n",
       "      <td>0.171945</td>\n",
       "    </tr>\n",
       "  </tbody>\n",
       "</table>\n",
       "</div>"
      ],
      "text/plain": [
       "          frequency  sample probability\n",
       "edu_real                               \n",
       "7.5            1903            0.018130\n",
       "9.0             762            0.007260\n",
       "10.0            729            0.006945\n",
       "11.0           1065            0.010146\n",
       "12.0          26443            0.251924\n",
       "13.0          15244            0.145231\n",
       "14.0          12215            0.116373\n",
       "16.0          28555            0.272046\n",
       "18.0          18048            0.171945"
      ]
     },
     "execution_count": 11,
     "metadata": {},
     "output_type": "execute_result"
    }
   ],
   "source": [
    "table_1.columns = ['frequency']\n",
    "table_1['sample probability'] = (table_1.frequency)/(len(df_))\n",
    "table_1"
   ]
  },
  {
   "cell_type": "code",
   "execution_count": 12,
   "id": "4e51cad5-1746-442c-b33a-4a2de08a9b37",
   "metadata": {},
   "outputs": [
    {
     "data": {
      "text/html": [
       "<div>\n",
       "<style scoped>\n",
       "    .dataframe tbody tr th:only-of-type {\n",
       "        vertical-align: middle;\n",
       "    }\n",
       "\n",
       "    .dataframe tbody tr th {\n",
       "        vertical-align: top;\n",
       "    }\n",
       "\n",
       "    .dataframe thead th {\n",
       "        text-align: right;\n",
       "    }\n",
       "</style>\n",
       "<table border=\"1\" class=\"dataframe\">\n",
       "  <thead>\n",
       "    <tr style=\"text-align: right;\">\n",
       "      <th></th>\n",
       "      <th>uhourse</th>\n",
       "      <th>earnwke</th>\n",
       "      <th>sex</th>\n",
       "      <th>grade92</th>\n",
       "      <th>age</th>\n",
       "      <th>wage</th>\n",
       "      <th>edu_real</th>\n",
       "    </tr>\n",
       "  </thead>\n",
       "  <tbody>\n",
       "    <tr>\n",
       "      <th>1</th>\n",
       "      <td>40.0</td>\n",
       "      <td>800.00</td>\n",
       "      <td>1</td>\n",
       "      <td>39</td>\n",
       "      <td>50</td>\n",
       "      <td>20.000000</td>\n",
       "      <td>12.0</td>\n",
       "    </tr>\n",
       "    <tr>\n",
       "      <th>14</th>\n",
       "      <td>35.0</td>\n",
       "      <td>387.50</td>\n",
       "      <td>2</td>\n",
       "      <td>39</td>\n",
       "      <td>26</td>\n",
       "      <td>11.071429</td>\n",
       "      <td>12.0</td>\n",
       "    </tr>\n",
       "    <tr>\n",
       "      <th>15</th>\n",
       "      <td>40.0</td>\n",
       "      <td>2269.23</td>\n",
       "      <td>1</td>\n",
       "      <td>39</td>\n",
       "      <td>44</td>\n",
       "      <td>56.730750</td>\n",
       "      <td>12.0</td>\n",
       "    </tr>\n",
       "    <tr>\n",
       "      <th>16</th>\n",
       "      <td>40.0</td>\n",
       "      <td>769.23</td>\n",
       "      <td>2</td>\n",
       "      <td>43</td>\n",
       "      <td>43</td>\n",
       "      <td>19.230750</td>\n",
       "      <td>16.0</td>\n",
       "    </tr>\n",
       "    <tr>\n",
       "      <th>18</th>\n",
       "      <td>50.0</td>\n",
       "      <td>1267.50</td>\n",
       "      <td>1</td>\n",
       "      <td>40</td>\n",
       "      <td>32</td>\n",
       "      <td>25.350000</td>\n",
       "      <td>13.0</td>\n",
       "    </tr>\n",
       "    <tr>\n",
       "      <th>...</th>\n",
       "      <td>...</td>\n",
       "      <td>...</td>\n",
       "      <td>...</td>\n",
       "      <td>...</td>\n",
       "      <td>...</td>\n",
       "      <td>...</td>\n",
       "      <td>...</td>\n",
       "    </tr>\n",
       "    <tr>\n",
       "      <th>271242</th>\n",
       "      <td>40.0</td>\n",
       "      <td>961.53</td>\n",
       "      <td>1</td>\n",
       "      <td>43</td>\n",
       "      <td>34</td>\n",
       "      <td>24.038250</td>\n",
       "      <td>16.0</td>\n",
       "    </tr>\n",
       "    <tr>\n",
       "      <th>271243</th>\n",
       "      <td>40.0</td>\n",
       "      <td>942.30</td>\n",
       "      <td>2</td>\n",
       "      <td>43</td>\n",
       "      <td>35</td>\n",
       "      <td>23.557500</td>\n",
       "      <td>16.0</td>\n",
       "    </tr>\n",
       "    <tr>\n",
       "      <th>271245</th>\n",
       "      <td>40.0</td>\n",
       "      <td>1400.00</td>\n",
       "      <td>1</td>\n",
       "      <td>40</td>\n",
       "      <td>54</td>\n",
       "      <td>35.000000</td>\n",
       "      <td>13.0</td>\n",
       "    </tr>\n",
       "    <tr>\n",
       "      <th>271249</th>\n",
       "      <td>36.0</td>\n",
       "      <td>1161.00</td>\n",
       "      <td>2</td>\n",
       "      <td>43</td>\n",
       "      <td>30</td>\n",
       "      <td>32.250000</td>\n",
       "      <td>16.0</td>\n",
       "    </tr>\n",
       "    <tr>\n",
       "      <th>271250</th>\n",
       "      <td>40.0</td>\n",
       "      <td>660.00</td>\n",
       "      <td>1</td>\n",
       "      <td>39</td>\n",
       "      <td>31</td>\n",
       "      <td>16.500000</td>\n",
       "      <td>12.0</td>\n",
       "    </tr>\n",
       "  </tbody>\n",
       "</table>\n",
       "<p>104964 rows × 7 columns</p>\n",
       "</div>"
      ],
      "text/plain": [
       "        uhourse  earnwke  sex grade92  age       wage  edu_real\n",
       "1          40.0   800.00    1      39   50  20.000000      12.0\n",
       "14         35.0   387.50    2      39   26  11.071429      12.0\n",
       "15         40.0  2269.23    1      39   44  56.730750      12.0\n",
       "16         40.0   769.23    2      43   43  19.230750      16.0\n",
       "18         50.0  1267.50    1      40   32  25.350000      13.0\n",
       "...         ...      ...  ...     ...  ...        ...       ...\n",
       "271242     40.0   961.53    1      43   34  24.038250      16.0\n",
       "271243     40.0   942.30    2      43   35  23.557500      16.0\n",
       "271245     40.0  1400.00    1      40   54  35.000000      13.0\n",
       "271249     36.0  1161.00    2      43   30  32.250000      16.0\n",
       "271250     40.0   660.00    1      39   31  16.500000      12.0\n",
       "\n",
       "[104964 rows x 7 columns]"
      ]
     },
     "execution_count": 12,
     "metadata": {},
     "output_type": "execute_result"
    }
   ],
   "source": [
    "df_"
   ]
  },
  {
   "cell_type": "code",
   "execution_count": null,
   "id": "328e85e8-6652-47da-8974-55c4a4c82817",
   "metadata": {},
   "outputs": [],
   "source": []
  },
  {
   "cell_type": "code",
   "execution_count": null,
   "id": "f8ffca5c-fa15-492e-b9d4-5cbe7ec4deb8",
   "metadata": {},
   "outputs": [],
   "source": []
  },
  {
   "cell_type": "code",
   "execution_count": 13,
   "id": "c4db0a71-33d0-43f7-95f4-d2712cc7cf4c",
   "metadata": {},
   "outputs": [],
   "source": [
    "## make histogram... to be continued"
   ]
  },
  {
   "cell_type": "code",
   "execution_count": 14,
   "id": "f5b49134-1318-4afb-a1f5-259def4faf2a",
   "metadata": {},
   "outputs": [],
   "source": [
    "df_.reset_index(inplace=True, drop = False)"
   ]
  },
  {
   "cell_type": "code",
   "execution_count": 15,
   "id": "98e5b4bb-6221-4626-ab3e-058eb6cdc634",
   "metadata": {},
   "outputs": [],
   "source": [
    "melted = df_.melt(id_vars=['edu_real'],value_vars = 'wage')"
   ]
  },
  {
   "cell_type": "code",
   "execution_count": 16,
   "id": "e0b9929f-33cd-42f3-8d1c-5e4c1af53f4c",
   "metadata": {},
   "outputs": [],
   "source": [
    "melted  = melted[melted.value < 150]"
   ]
  },
  {
   "cell_type": "code",
   "execution_count": 17,
   "id": "1d8477b1-8c9f-452f-82bb-116dd6ddc960",
   "metadata": {},
   "outputs": [
    {
     "data": {
      "image/png": "[encoded data removed]",
      "text/plain": [
       "<Figure size 640x480 with 2 Axes>"
      ]
     },
     "metadata": {},
     "output_type": "display_data"
    }
   ],
   "source": [
    "# figures 1 and 2 density and histogram of wages\n",
    "import matplotlib.pyplot as plt\n",
    "fig,axs = plt.subplots(1,2)\n",
    "sns.histplot(data = melted,x = 'value',ax = axs[0])\n",
    "axs[0].set_title('Histogram of wages')\n",
    "sns.kdeplot(data = melted,x = 'value',ax = axs[1])\n",
    "axs[1].set_title('Density plot of wages')\n",
    "plt.tight_layout()\n",
    "plt.show()"
   ]
  },
  {
   "cell_type": "code",
   "execution_count": 18,
   "id": "1c1d8e84-34ef-4e0e-b981-994d43a3ca90",
   "metadata": {},
   "outputs": [],
   "source": [
    "# men and women frequencies and probabilities\n",
    "# rounded to nearest whole for convencience\n",
    "grouped = df_.groupby(['sex','edu_real']).size()\n",
    "size_men = len(df_[df_.sex == 1])\n",
    "size_women = len(df_[df_.sex == 2])\n",
    "table_2=grouped.reset_index()\n",
    "table_2 = table_2.pivot(index='sex',columns = 'edu_real')\n",
    "table_2.columns = [x[1] for x in table_2.columns]\n",
    "table_2.index = ['men','women']\n",
    "table_2_percent = round((table_2.div(table_2.sum(axis=1), axis=0))*100)\n",
    "table_2 = pd.concat([round(table_2),table_2_percent],axis = 0)"
   ]
  },
  {
   "cell_type": "code",
   "execution_count": 19,
   "id": "b8682c54-face-4701-97c7-81a8b445b989",
   "metadata": {},
   "outputs": [
    {
     "data": {
      "text/html": [
       "<div>\n",
       "<style scoped>\n",
       "    .dataframe tbody tr th:only-of-type {\n",
       "        vertical-align: middle;\n",
       "    }\n",
       "\n",
       "    .dataframe tbody tr th {\n",
       "        vertical-align: top;\n",
       "    }\n",
       "\n",
       "    .dataframe thead th {\n",
       "        text-align: right;\n",
       "    }\n",
       "</style>\n",
       "<table border=\"1\" class=\"dataframe\">\n",
       "  <thead>\n",
       "    <tr style=\"text-align: right;\">\n",
       "      <th></th>\n",
       "      <th>7.5</th>\n",
       "      <th>9.0</th>\n",
       "      <th>10.0</th>\n",
       "      <th>11.0</th>\n",
       "      <th>12.0</th>\n",
       "      <th>13.0</th>\n",
       "      <th>14.0</th>\n",
       "      <th>16.0</th>\n",
       "      <th>18.0</th>\n",
       "    </tr>\n",
       "  </thead>\n",
       "  <tbody>\n",
       "    <tr>\n",
       "      <th>men</th>\n",
       "      <td>1227.0</td>\n",
       "      <td>473.0</td>\n",
       "      <td>426.0</td>\n",
       "      <td>648.0</td>\n",
       "      <td>15355.0</td>\n",
       "      <td>7896.0</td>\n",
       "      <td>5773.0</td>\n",
       "      <td>13769.0</td>\n",
       "      <td>8153.0</td>\n",
       "    </tr>\n",
       "    <tr>\n",
       "      <th>women</th>\n",
       "      <td>676.0</td>\n",
       "      <td>289.0</td>\n",
       "      <td>303.0</td>\n",
       "      <td>417.0</td>\n",
       "      <td>11088.0</td>\n",
       "      <td>7348.0</td>\n",
       "      <td>6442.0</td>\n",
       "      <td>14786.0</td>\n",
       "      <td>9895.0</td>\n",
       "    </tr>\n",
       "    <tr>\n",
       "      <th>men</th>\n",
       "      <td>2.0</td>\n",
       "      <td>1.0</td>\n",
       "      <td>1.0</td>\n",
       "      <td>1.0</td>\n",
       "      <td>29.0</td>\n",
       "      <td>15.0</td>\n",
       "      <td>11.0</td>\n",
       "      <td>26.0</td>\n",
       "      <td>15.0</td>\n",
       "    </tr>\n",
       "    <tr>\n",
       "      <th>women</th>\n",
       "      <td>1.0</td>\n",
       "      <td>1.0</td>\n",
       "      <td>1.0</td>\n",
       "      <td>1.0</td>\n",
       "      <td>22.0</td>\n",
       "      <td>14.0</td>\n",
       "      <td>13.0</td>\n",
       "      <td>29.0</td>\n",
       "      <td>19.0</td>\n",
       "    </tr>\n",
       "  </tbody>\n",
       "</table>\n",
       "</div>"
      ],
      "text/plain": [
       "         7.5    9.0    10.0   11.0     12.0    13.0    14.0     16.0    18.0\n",
       "men    1227.0  473.0  426.0  648.0  15355.0  7896.0  5773.0  13769.0  8153.0\n",
       "women   676.0  289.0  303.0  417.0  11088.0  7348.0  6442.0  14786.0  9895.0\n",
       "men       2.0    1.0    1.0    1.0     29.0    15.0    11.0     26.0    15.0\n",
       "women     1.0    1.0    1.0    1.0     22.0    14.0    13.0     29.0    19.0"
      ]
     },
     "execution_count": 19,
     "metadata": {},
     "output_type": "execute_result"
    }
   ],
   "source": [
    "table_2"
   ]
  },
  {
   "cell_type": "code",
   "execution_count": 20,
   "id": "5f0f3917-8093-419c-bd3b-26488fc8bf09",
   "metadata": {},
   "outputs": [
    {
     "data": {
      "image/png": "[encoded data removed]",
      "text/plain": [
       "<Figure size 640x480 with 1 Axes>"
      ]
     },
     "metadata": {},
     "output_type": "display_data"
    }
   ],
   "source": [
    "# figures 3  slide 15 density and histogram of wages\n",
    "sns.color_palette(\"flare\", as_cmap=True)\n",
    "fig,axs = plt.subplots()\n",
    "mydata = melted[(melted.edu_real == 12) | (melted.edu_real == 16)]\n",
    "sns.kdeplot(data = mydata,x = 'value', hue = 'edu_real')\n",
    "plt.tight_layout()\n",
    "plt.show()"
   ]
  },
  {
   "cell_type": "code",
   "execution_count": 21,
   "id": "fc21247f-f211-45fc-8f1e-240430129945",
   "metadata": {},
   "outputs": [
    {
     "data": {
      "image/png": "[encoded data removed]",
      "text/plain": [
       "<Figure size 640x480 with 2 Axes>"
      ]
     },
     "metadata": {},
     "output_type": "display_data"
    }
   ],
   "source": [
    "# slide 16\n",
    "\n",
    "a = df_.groupby('edu_real').agg({'wage':'mean'})\n",
    "b = df_.groupby('sex').agg({'wage':'mean'})\n",
    "fig,axs = plt.subplots(1,2)\n",
    "sns.scatterplot(data = a,x = a.index,y = 'wage',ax = axs[0])\n",
    "axs[0].set_title('mean wage conditional on education')\n",
    "sns.scatterplot(data = b,x = b.index,y= 'wage',ax = axs[1])\n",
    "axs[1].set_title('Mean wage conditional on sex')\n",
    "plt.tight_layout()\n",
    "plt.show()"
   ]
  },
  {
   "cell_type": "code",
   "execution_count": 26,
   "id": "a706e467-8711-4126-b40b-500f257c927d",
   "metadata": {},
   "outputs": [
    {
     "data": {
      "text/plain": [
       "<AxesSubplot:xlabel='age', ylabel='wage'>"
      ]
     },
     "execution_count": 26,
     "metadata": {},
     "output_type": "execute_result"
    },
    {
     "data": {
      "image/png": "[encoded data removed]",
      "text/plain": [
       "<Figure size 640x480 with 1 Axes>"
      ]
     },
     "metadata": {},
     "output_type": "display_data"
    }
   ],
   "source": [
    "# slide 18\n",
    "c= df_.groupby(['age']).agg({'wage':'mean'})\n",
    "sns.scatterplot(data = c,x = c.index,y = 'wage')"
   ]
  },
  {
   "cell_type": "code",
   "execution_count": 23,
   "id": "2525020c-4d04-4369-b478-e600a5980f86",
   "metadata": {},
   "outputs": [],
   "source": [
    "c = c.reset_index(drop=False)"
   ]
  },
  {
   "cell_type": "code",
   "execution_count": 25,
   "id": "e28b6441-bb85-4b4b-a64c-ab9a57885a4c",
   "metadata": {},
   "outputs": [
    {
     "ename": "ModuleNotFoundError",
     "evalue": "No module named 'mayavi'",
     "output_type": "error",
     "traceback": [
      "\u001b[0;31m---------------------------------------------------------------------------\u001b[0m",
      "\u001b[0;31mModuleNotFoundError\u001b[0m                       Traceback (most recent call last)",
      "Input \u001b[0;32mIn [25]\u001b[0m, in \u001b[0;36m<cell line: 6>\u001b[0;34m()\u001b[0m\n\u001b[1;32m      4\u001b[0m \u001b[38;5;28;01mimport\u001b[39;00m \u001b[38;5;21;01mnumpy\u001b[39;00m \u001b[38;5;28;01mas\u001b[39;00m \u001b[38;5;21;01mnp\u001b[39;00m\n\u001b[1;32m      5\u001b[0m \u001b[38;5;28;01mfrom\u001b[39;00m \u001b[38;5;21;01mscipy\u001b[39;00m \u001b[38;5;28;01mimport\u001b[39;00m stats\n\u001b[0;32m----> 6\u001b[0m \u001b[38;5;28;01mfrom\u001b[39;00m \u001b[38;5;21;01mmayavi\u001b[39;00m \u001b[38;5;28;01mimport\u001b[39;00m mlab\n\u001b[1;32m      7\u001b[0m data\u001b[38;5;241m=\u001b[39mdf_\n\u001b[1;32m      8\u001b[0m values \u001b[38;5;241m=\u001b[39m data\u001b[38;5;241m.\u001b[39mT\n",
      "\u001b[0;31mModuleNotFoundError\u001b[0m: No module named 'mayavi'"
     ]
    }
   ],
   "source": [
    "# potential use of Mayavi library for 3d visualization? Not sure the best way to approch \n",
    "# this one.\n",
    "\n",
    "import numpy as np\n",
    "from scipy import stats\n",
    "from mayavi import mlab\n",
    "data=df_\n",
    "values = data.T\n",
    "\n",
    "kde = stats.gaussian_kde(values)\n",
    "\n",
    "# Create a regular 3D grid with 50 points in each dimension\n",
    "xmin, ymin, zmin = data.min(axis=0)\n",
    "xmax, ymax, zmax = data.max(axis=0)\n",
    "xi, yi, zi = np.mgrid[xmin:xmax:50j, ymin:ymax:50j, zmin:zmax:50j]\n",
    "\n",
    "# Evaluate the KDE on a regular grid...\n",
    "coords = np.vstack([item.ravel() for item in [xi, yi, zi]])\n",
    "density = kde(coords).reshape(xi.shape)\n",
    "\n",
    "# Visualize the density estimate as isosurfaces\n",
    "mlab.contour3d(xi, yi, zi, density, opacity=0.5)\n",
    "mlab.axes()\n",
    "mlab.show()\n"
   ]
  },
  {
   "cell_type": "code",
   "execution_count": null,
   "id": "2fce7840-1b78-451b-a580-f43068f5b7e8",
   "metadata": {},
   "outputs": [],
   "source": [
    "a"
   ]
  },
  {
   "cell_type": "code",
   "execution_count": null,
   "id": "d64ec76f-c40a-439f-a462-5e225c4570ad",
   "metadata": {},
   "outputs": [],
   "source": [
    "a.columns"
   ]
  },
  {
   "cell_type": "code",
   "execution_count": null,
   "id": "a78891a3-f19d-4e5e-8179-36f41cc41dc4",
   "metadata": {},
   "outputs": [],
   "source": [
    "# conditional mean wage on education level\n",
    "sns.scatterplot(data = a, x = a.index,y = 'wage')"
   ]
  },
  {
   "cell_type": "code",
   "execution_count": null,
   "id": "043cf4a5-61f3-48fd-b11f-453bb0332eab",
   "metadata": {},
   "outputs": [],
   "source": []
  },
  {
   "cell_type": "code",
   "execution_count": null,
   "id": "47e18108-a41f-45a5-82df-58445069858b",
   "metadata": {},
   "outputs": [],
   "source": []
  }
 ],
 "metadata": {
  "kernelspec": {
   "display_name": "mas-clas",
   "language": "python",
   "name": "master-class"
  },
  "language_info": {
   "codemirror_mode": {
    "name": "ipython",
    "version": 3
   },
   "file_extension": ".py",
   "mimetype": "text/x-python",
   "name": "python",
   "nbconvert_exporter": "python",
   "pygments_lexer": "ipython3",
   "version": "3.9.12"
  }
 },
 "nbformat": 4,
 "nbformat_minor": 5
}
