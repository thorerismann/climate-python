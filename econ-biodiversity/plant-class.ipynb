{
 "cells": [
  {
   "cell_type": "code",
   "execution_count": 1,
   "id": "71416bfa-c42a-4250-a0b7-40c6dbf485e8",
   "metadata": {},
   "outputs": [],
   "source": [
    "import pandas as pd\n",
    "import numpy as np\n",
    "import scipy"
   ]
  },
  {
   "cell_type": "code",
   "execution_count": 2,
   "id": "ed60db08-275e-4506-9eb5-107daad4db58",
   "metadata": {},
   "outputs": [],
   "source": [
    "class CoffeePlant:\n",
    "    def __init__(self, grid=None, id_no=None, df = None):\n",
    "        self.grid = grid\n",
    "        self.id_no = id_no\n",
    "        self.df = df\n",
    "    \n",
    "    def close_neighbors(self):\n",
    "        # get x coord\n",
    "        x = self.grid[0]\n",
    "        # get y coord\n",
    "        y = self.grid[1]\n",
    "        # list of touching grid neighbors (not corners)\n",
    "        neighbors = [(x-1,y),(x+1,y),(x,y-1),(x,y+1)]\n",
    "        # remove negative neighbors, neighbors more than 100\n",
    "        return [x for x in neighbors if ~((x[0]<0) | (x[1]<0) | (x[0]>100) | (x[1]>100))]\n",
    "    \n",
    "    def get_healthy(self,index):\n",
    "        df = self.df\n",
    "        other_branches= df.iloc[~index,:]\n",
    "        healthy = other_branches.h.sum()\n",
    "        return healthy\n",
    "    \n",
    "    def get_infected(self,index):\n",
    "        df = self.df\n",
    "        other_branches= df.iloc[~index,:]\n",
    "        infected = other_branches.i.sum()\n",
    "        return infected"
   ]
  },
  {
   "cell_type": "code",
   "execution_count": 3,
   "id": "1ba1b490-510e-4a52-aafc-972810f9175e",
   "metadata": {},
   "outputs": [],
   "source": [
    "# make a 10 by 10 grid of squares with plants\n",
    "\n",
    "grid_size = 10\n",
    "x = np.arange(0,grid_size)\n",
    "y = np.arange(0,grid_size)\n",
    "tuples = []\n",
    "for i in x:\n",
    "    for j in y:\n",
    "        tuples.append((i,j))\n",
    "grid = tuples\n",
    "\n",
    "# make a list of ids for each plant in each grid square\n",
    "\n",
    "ids = np.arange(0,4)\n",
    "\n",
    "# initialize coffee plants with 2 branches, 4 healthy leaves each, zero infected, zero in leaf counter\n",
    "a = [4,4]\n",
    "b= [0,0]\n",
    "c = [0,0]\n",
    "d = [0,0]\n",
    "e = [0,0]\n",
    "df = pd.DataFrame([a,b,c,d,e])\n",
    "df = df.transpose()\n",
    "df.columns = ['h','i','c_l','b','c_b']"
   ]
  },
  {
   "cell_type": "code",
   "execution_count": 4,
   "id": "904d36d0-3aef-4c2f-a8cb-3172a4d5d9fa",
   "metadata": {},
   "outputs": [],
   "source": [
    "# initialize coffee plants\n",
    "\n",
    "coffee_plants = []\n",
    "for i in grid:\n",
    "    for j in ids:\n",
    "        coffee_plants.append(CoffeePlant(i,j,df))"
   ]
  },
  {
   "cell_type": "code",
   "execution_count": 5,
   "id": "504e1914-5495-466a-a95c-d2a24aec02db",
   "metadata": {},
   "outputs": [],
   "source": [
    "# define production functions for leaves and berries on each branch\n",
    "\n",
    "leaf_cutoff = 50\n",
    "berry_cutoff = 50\n",
    "leaf_days_healthy = 5\n",
    "leaf_days_infected = 2\n",
    "berry_day_healthy = 5\n",
    "berry_day_infected = 2\n",
    "\n",
    "def make_leaves(coffee_plant):\n",
    "    df = coffee_plant.df\n",
    "    for index,row in df.iterrows():\n",
    "        # add leaf-days to counter\n",
    "        row[2] = alpha*row[0] + beta*row[1] + row[2]\n",
    "        # add a new healthy leaf if threshold greater than > 1\n",
    "        row[0] = row[0]+ np.floor(row[2]/leaf_cutoff)\n",
    "        # remove the number of points used from row 3 if threshhold passed\n",
    "        row[2] = row[2] - leaf_cutoff*np.floor(row[2]/leaf_cutoff)\n",
    "\n",
    "def make_berries(coffee_plant):\n",
    "    df_ = coffee_plant.df\n",
    "    for index,row in df_.iterrows():\n",
    "        # add a new berry if threshold passed\n",
    "        row[4] = gamma*row[0] + delta*row[1]+ row[4]\n",
    "        row[3] = row[3]+ np.floor(row[4]/berry_cutoff)\n",
    "        # remove the number of points used from row 3 if threshhold passed\n",
    "        row[4] = row[4] - berry_cutoff*np.floor(row[4]/berry_cutoff)\n",
    "    coffee_plant.df = df\n",
    "            "
   ]
  },
  {
   "cell_type": "code",
   "execution_count": 6,
   "id": "1fa1a349-076e-4080-9c5c-414c486614a1",
   "metadata": {},
   "outputs": [
    {
     "ename": "SyntaxError",
     "evalue": "invalid syntax (2755052157.py, line 14)",
     "output_type": "error",
     "traceback": [
      "\u001b[0;36m  Input \u001b[0;32mIn [6]\u001b[0;36m\u001b[0m\n\u001b[0;31m    a =\u001b[0m\n\u001b[0m        ^\u001b[0m\n\u001b[0;31mSyntaxError\u001b[0m\u001b[0;31m:\u001b[0m invalid syntax\n"
     ]
    }
   ],
   "source": [
    "# chance of spread from leaf to leaf on same branch\n",
    "leaf_spread = 0.5\n",
    "\n",
    "# chance of spread frm leaf to leaf on new branch\n",
    "branch_spread = 0.2\n",
    "\n",
    "# chance of spread from leaf to leaf on new plant\n",
    "plant_spread = 0.1\n",
    "\n",
    "\n",
    "def virus_spread(coffee_plant,coffee_plants):\n",
    "    df = coffee_plant.df\n",
    "    grid_plants = [x for x in coffee_plants if x.grid == coffee_plant.grid]\n",
    "    for i in grid_plants:\n",
    "        if i != coffe_plant:\n",
    "            \n",
    "            \n",
    "    for index,row in df.iterrows():\n",
    "        leaf_leaf = row[0]*leaf_spead**(row[1])\n",
    "        branches = coffee_plant.get_infected(index)\n",
    "        branch_leaf = row[0]*branch_spread**(branches)\n",
    "        plant_spread = row\n",
    "    "
   ]
  },
  {
   "cell_type": "code",
   "execution_count": null,
   "id": "a02c2ddb-330d-4964-963a-0fef46b4685b",
   "metadata": {},
   "outputs": [],
   "source": []
  }
 ],
 "metadata": {
  "kernelspec": {
   "display_name": "mas-clas",
   "language": "python",
   "name": "master-class"
  },
  "language_info": {
   "codemirror_mode": {
    "name": "ipython",
    "version": 3
   },
   "file_extension": ".py",
   "mimetype": "text/x-python",
   "name": "python",
   "nbconvert_exporter": "python",
   "pygments_lexer": "ipython3",
   "version": "3.9.12"
  }
 },
 "nbformat": 4,
 "nbformat_minor": 5
}
