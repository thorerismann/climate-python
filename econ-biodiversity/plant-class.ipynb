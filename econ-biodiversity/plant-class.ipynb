{
 "cells": [
  {
   "cell_type": "markdown",
   "id": "e736a415-6229-4709-8c48-745cee488cdb",
   "metadata": {},
   "source": [
    "# First Pass - Bernoulli, Coffee Leaf Rust and Python\n",
    "\n"
   ]
  },
  {
   "cell_type": "code",
   "execution_count": 1,
   "id": "71416bfa-c42a-4250-a0b7-40c6dbf485e8",
   "metadata": {},
   "outputs": [],
   "source": [
    "import pandas as pd\n",
    "import numpy as np\n",
    "import scipy\n",
    "import random\n",
    "import seaborn as sns"
   ]
  },
  {
   "cell_type": "markdown",
   "id": "08dbdd16-7457-41ed-a15b-aa6829fc5552",
   "metadata": {},
   "source": [
    "## Make Plant Grid\n",
    "\n",
    "The plants are organized in an n by n grid for a total of $n^2$ grid squares. There are $y$ number of plants in each grid square and $z$ numbers of leaves on each plant, for a total number of plants of $y*n^2$ and a total number of leaves of $z*y*n^2$\n",
    "\n",
    "Here we initialize with 5 plants per grid cell, 100 grid cells."
   ]
  },
  {
   "cell_type": "code",
   "execution_count": 2,
   "id": "1ba1b490-510e-4a52-aafc-972810f9175e",
   "metadata": {},
   "outputs": [],
   "source": [
    "# make a 10 by 10 grid of squares\n",
    "\n",
    "grid_size = 10\n",
    "x = np.arange(0,grid_size)\n",
    "y = np.arange(0,grid_size)\n",
    "tuples = []\n",
    "for i in x:\n",
    "    for j in y:\n",
    "        tuples.append((i,j))\n",
    "grid = tuples\n",
    "\n",
    "# make a list of ids for each plant in each grid square\n",
    "plants_per_cell = 5\n",
    "ids = np.arange(0,plants_per_cell)"
   ]
  },
  {
   "cell_type": "markdown",
   "id": "58ed61d4-b5be-430c-a030-b7a8120f06bc",
   "metadata": {},
   "source": [
    "### Initialize the coffee plants\n",
    "\n",
    "Each plant $P_j$ is given a number of healthy leaves, infected leaves, and berries. Here we initialize with 100 healthy leaves, 0 infected leaves and 0 berries. The counters of berry and leaf production (explained in the following section) are also initialized to zero."
   ]
  },
  {
   "cell_type": "code",
   "execution_count": 3,
   "id": "94e812e1-94cc-4808-b73d-63aab2b21716",
   "metadata": {},
   "outputs": [],
   "source": [
    "# initialize coffee plants with 100 healthy leaves, 0 infected leaves, 0 berries, leaf & berry counter set to 0, \n",
    "start_h = 100\n",
    "start_i = 0\n",
    "start_b = 0\n",
    "start_lc = 0\n",
    "start_bc = 0\n",
    "counts = {'healthy':start_h,'infected':start_i,'berries':start_b,'lcount':start_lc,'bcount':start_bc}"
   ]
  },
  {
   "cell_type": "markdown",
   "id": "02dca247-dd23-4442-bf1e-01108c03e98e",
   "metadata": {},
   "source": [
    "Now that the all of the properties of our coffee plants are created, we can initialize the coffee plant objects. First we define the class object and then iterate  over the grid cells and id numbers to fill up the grid with coffee plants.\n",
    "\n",
    "*Likely Bonus: Draw the number of leaves for each plant randomly from a distribution of number of leaves from the literature*"
   ]
  },
  {
   "cell_type": "code",
   "execution_count": 4,
   "id": "ed60db08-275e-4506-9eb5-107daad4db58",
   "metadata": {},
   "outputs": [],
   "source": [
    "class CoffeePlant:\n",
    "    def __init__(self, grid=None, id_no=None, counts = None):\n",
    "        self.grid = grid\n",
    "        self.id_no = id_no\n",
    "        self.counts = counts\n",
    "    \n",
    "    def close_neighbors(self):\n",
    "        # get x coord\n",
    "        x = self.grid[0]\n",
    "        # get y coord\n",
    "        y = self.grid[1]\n",
    "        # list of touching grid neighbors (not corners)\n",
    "        neighbors = [(x-1,y),(x+1,y),(x,y-1),(x,y+1)]\n",
    "        # remove negative neighbors, neighbors more than 100\n",
    "        return [x for x in neighbors if ~((x[0]<0) | (x[1]<0) | (x[0]>100) | (x[1]>100))]\n",
    "    \n",
    "    def set_counts(self,counts):\n",
    "        self.counts = counts"
   ]
  },
  {
   "cell_type": "code",
   "execution_count": 5,
   "id": "904d36d0-3aef-4c2f-a8cb-3172a4d5d9fa",
   "metadata": {},
   "outputs": [],
   "source": [
    "# initialize coffee plants looping over grid and ids\n",
    "coffee_plants = []\n",
    "for i in grid:\n",
    "    for j in ids:\n",
    "        plant = CoffeePlant(i,j,counts)\n",
    "        coffee_plants.append(plant)"
   ]
  },
  {
   "cell_type": "markdown",
   "id": "a7d9d20e-ecda-403f-b6e5-4a72f3a056bb",
   "metadata": {},
   "source": [
    "## Plant production\n",
    "This section defines the state equations for the production of leaves and berries.\n",
    "\n",
    "### Berry production\n",
    "\n",
    "Let the number of berries $B_{(j,k)_t}$ on each plant $j$ in a given grid cell $k$ in each time period $t$ be given by the following functions. Let $x$ be the number of berry days $BD_{(j,k)}$ needed to produce one coffee berry $B_{(j,k)}$.\n",
    "\n",
    "Each healthy leaf $HL_{(i,j,k)_{t-1}}$ and infected leaf $IL_{(i,j,k)_{t-1}}$ produces a number of berry days, $BD_{(j,k)_t}$ for each time period $t$ at a rate of $\\alpha$  and $\\beta$ respectively. Thus, the number of berry-days in each time period $t$ is:\n",
    "\n",
    "$$\n",
    "BD_{(j,k)_t} = BD_{(j,k)_{t-1}} + \\alpha*HL_{(j,k)_{t-1}} + \\beta*IL_{(j,k)_{t-1}} \n",
    "$$\n",
    "\n",
    "Then, for a given cut-off $x$, the number of berries produced is given by:\n",
    "$$\n",
    "B_{(j,k)_t} = B_{(j,k)_{t-1}}  + floor(BD_{(j,k)_{t-1}}/x)\n",
    "$$\n",
    "\n",
    "where $\\beta$ is the number of leaf-berry-days made by a diseased leaf, $\\alpha$ is the number of berry-days made by a healthy leaf, and ```floor``` returns the highest integer in the division. (round down).\n",
    "\n",
    "Keeping the remaining berry-days we have\n",
    "\n",
    "$$\n",
    "BD_{(j,k)_t} = BD_{(j,k)_{t-1}} - floor(BD_{(j,k)_{t-1}}/x)*x\n",
    "$$\n"
   ]
  },
  {
   "cell_type": "code",
   "execution_count": 6,
   "id": "7b603c86-ae22-43fd-923d-25c3b1f3fc1e",
   "metadata": {},
   "outputs": [],
   "source": [
    "# define production functions for leaves and berries on each branch\n",
    "\n",
    "berry_cutoff = 50\n",
    "berry_days_healthy = .2\n",
    "berry_days_infected = .01\n",
    "\n",
    "def make_berries(coffee_plant):\n",
    "    berry_days = berry_days_healthy*coffee_plant.counts['healthy'] + berry_days_infected*coffee_plant.counts['infected'] + coffee_plant.counts['bcount']\n",
    "    berries = coffee_plant.counts['berries'] + np.floor(berry_days/berry_cutoff)\n",
    "    berry_days = berry_days - berry_cutoff*np.floor(berry_days/berry_cutoff)\n",
    "    coffee_plant.set_counts({'healthy':coffee_plant.counts['healthy'],'infected':coffee_plant.counts['infected'],'berries':berries,\n",
    "                             'lcount':coffee_plant.counts['lcount'],'bcount':berry_days})"
   ]
  },
  {
   "cell_type": "markdown",
   "id": "da3e2abe-9d39-468c-846a-03e7dfabb736",
   "metadata": {},
   "source": [
    "### Leaf production\n",
    "\n",
    "Let the number of leaf days $LD_{(j,k)_t}$ made by each plant $j$ in each grid $k$ for each time period $t$ be given by the following pay off-function equation in Leaf-Days :\n",
    "\n",
    "$$\n",
    "LD_{(j,k)_t} = LD_{(j,k)_{t-1}} + \\gamma*HL_{(j,k)_{t-1}} + \\theta*IL_{(j,k)_{t-1}}\n",
    "$$\n",
    "\n",
    "where $\\theta$ is the number of leaf-days made by an infected leaf and $\\gamma$ is the number of leaf-days made by a healthy leaf.\n",
    "\n",
    "Then, when $LD_t$ crossses a threshold value $x$ (or accumulates enough leaf-days), a new leaf on the branch is produced. The evolution of leaves is given by the following code:\n",
    "\n",
    "$$\n",
    "L_{(j,k)_t} = L_{(j,k)_{t-1}}  + floor(LD_{(j,k)_t}/x)\n",
    "$$"
   ]
  },
  {
   "cell_type": "code",
   "execution_count": 7,
   "id": "2d23cc6d-90af-4af4-aa6e-8dc8de11f8bd",
   "metadata": {},
   "outputs": [],
   "source": [
    "leaf_cutoff = 50\n",
    "leaf_days_healthy = .1\n",
    "leaf_days_infected = .05\n",
    "\n",
    "def make_leaves(coffee_plant):\n",
    "    leaf_days = leaf_days_healthy*coffee_plant.counts['healthy'] + leaf_days_infected*coffee_plant.counts['infected'] + coffee_plant.counts['lcount']\n",
    "    healthy = coffee_plant.counts['healthy'] + np.floor(leaf_days/leaf_cutoff)\n",
    "    leaf_days = leaf_days - leaf_cutoff*np.floor(leaf_days/leaf_cutoff)\n",
    "    coffee_plant.set_counts({'healthy':healthy,'infected':coffee_plant.counts['infected'],'berries':coffee_plant.counts['berries'],\n",
    "                             'lcount':leaf_days,'bcount':coffee_plant.counts['bcount']})"
   ]
  },
  {
   "cell_type": "markdown",
   "id": "65a19a7d-ca8a-46d3-afb6-0fb555bdafeb",
   "metadata": {},
   "source": [
    "### The virus state equations\n",
    "\n",
    "Let the chance of an infected leaf $il_{(i,j,k)_t}$ transmitting the virus to a healthy leaf $hl_{(i,j,k)_t}$ on the same plant be $\\theta$.\n",
    "\n",
    "Let the chance of an infected leaf $il_{(i,-j,k)_t}$ from a different plant $-j$ transmitting the virus to a healthy leaf $hl_{(i,j,k)_t}$ on plant $j$ be $\\phi$.\n",
    "\n",
    "For each time period let the probability that a healthy leaf becomes infected be modelled as a series of independent bernoulli trials. Let $HL_{(i,j,k,l)_t}$ and $IL_{(i,j,k)_t}$ be the total number of healthy and infected leaves on plant j at time $t$ respectively and let $IL_{(i,-j,k)_t}$ be the number of infected leaves on different plants in the same grid at time $t$. Starting with the infected leaves on the same plant, we have for each $hl_{(i,j,k,l)_t}$\n",
    "\n",
    "$$\n",
    "P(Infected)_{t-1} = \\theta_{(i,j,k)_{t-1}} = 1- P(NotInfected)_{t-1}\n",
    "$$\n",
    "$$\n",
    "\\theta_{(i,j,k)_{t-1}} = 1- {IL_{(j,k)_{t-1}} \\choose 0}*\\theta^0*(1-\\theta)^{IL_{(j,k)_{t-1}}} + \n",
    "$$\n",
    "\n",
    "$$\\theta_{(i,j,k)_{t-1}} = 1- (1-\\theta)^{IL_{(j,k)_{t-1}}}$$ \n",
    "\n",
    "Then further assuming independence, the number of healthy leaves that became infected is given by the following:\n",
    "\n",
    "$$\n",
    "IL_{(j,k)_{t}} = IL_{(j,k)_{t-1}} + HL_{(j,k)_{t-1}}*\\theta_{(i,j,k)_{t-1}}\n",
    "$$\n",
    "And the number of healthy leaves follows:\n",
    "$$\n",
    "HL_{(j,k)_t} = HL_{(j,k)_{t-1}} - HL_{(j,k)_{t-1}}*\\theta_{(i,j,k)_{t-1}}\n",
    "$$\n",
    "\n",
    "But since cross plant infection occurs at rate $\\phi$ for each each infected leaf $il_{(i,-j,k)_t}$ on the other plants in the grid square then the probability of infecting a healthy leaf on a given branch $hl_{(i,j,k,l)_t}$ by an infected leaf from another plant is given by summing across all infected leaves on all plants but plant $j$. Following the reasoning above:\n",
    "\n",
    "$$\n",
    "P(Infected)_{t-1} = \\phi_{(i,j,k)_{t-1}} = 1- P(NotInfected)_{t-1}\n",
    "$$\n",
    "$$\n",
    "\\phi_{(i,j,k)_{t-1}} = 1- {IL_{(-j,k)_{t-1}} \\choose 0}*\\phi^0*(1-\\phi)^{IL_{(-j,k)_{t-1}}}\n",
    "$$\n",
    "\n",
    "$$\\phi_{(i,j,k)_{t-1}} = 1- (1-\\phi)^{IL_{(-j,k)_{t-1}}}$$ \n",
    "\n",
    "So the number of leaves infected by neighboring plants on plant $j$ and the number of healthy leaves remaining is:\n",
    "$$\n",
    "IL_{(j,k)_{t}} = IL_{(j,k)_{t-1}} + HL_{(j,k)_{t-1}}*\\phi_{(i,j,k)_{t-1}}\n",
    "$$\n",
    "And the remaining healthy leaves:\n",
    "$$\n",
    "HL_{(j,k)_{t}} = HL_{(j,k)_{t-1}} - HL_{(j,k)_{t-1}}*\\phi_{(i,j,k)_{t-1}}\n",
    "$$\n",
    "\n",
    "Putting it all together the actual probability of infection for each healthy leaf on a given branch $j$ on a given plant $k$, for a given grid square $l$, again assuming independence between all infection events, is:\n",
    "\n",
    "$$\n",
    "\\beta_{(i,j,k)_{t-1}} = \\theta_{(i,j,k)_{t-1}} + \\phi_{(i,j,k)_{t-1}} - \\phi_{(i,j,k)_{t-1}}*\\theta_{(i,j,k)_{t-1}}\n",
    "$$\n",
    "\n",
    "We then use $\\beta_{(i,j,k,l)_{t-1}}$ to calculate \n",
    "\n",
    "$$\n",
    "HL_{(j,k)_{t}} = HL_{(j,k)_{t-1}}- \\beta_{(i,j,k)_{t-1}}*HL_{(j,k)_{t-1}}\n",
    "$$\n",
    "\n",
    "*Bonus: We will assume that transmission between grid cells occurs only during a storm. Let $\\delta$ be the probability of the storm and $\\alpha$ represent the likeliehood of cross grid contamination if a storm occurs...*\n",
    "\n",
    "*Bonus: some wind transmission*"
   ]
  },
  {
   "cell_type": "code",
   "execution_count": 8,
   "id": "1fa1a349-076e-4080-9c5c-414c486614a1",
   "metadata": {},
   "outputs": [],
   "source": [
    "# chance of spread from leaf to leaf on same plant\n",
    "spread_j = 0.005\n",
    "\n",
    "# chance of spread from leaf to leaf on new plant same grid\n",
    "spread_k = 0.00005\n",
    "\n",
    "\n",
    "def virus_spread(coffee_plant,coffee_plants):\n",
    "    grid_plants = [x for x in coffee_plants if (x.grid == coffee_plant.grid)]\n",
    "    infected_others = 0\n",
    "    for i in grid_plants:\n",
    "        if i is not coffee_plant:\n",
    "            infected_others = infected_others + i.counts['infected']\n",
    "    phi = 1-(1-spread_k)**infected_others\n",
    "    theta = 1-(1-spread_j)**(coffee_plant.counts['infected'])\n",
    "    beta = phi + theta - phi*theta\n",
    "    infected = coffee_plant.counts['infected']+np.round(coffee_plant.counts['healthy']*beta)\n",
    "    healthy = coffee_plant.counts['healthy']-np.round(coffee_plant.counts['healthy']*beta)\n",
    "    coffee_plant.set_counts({'healthy':healthy,'infected':infected,'berries':coffee_plant.counts['berries'],\n",
    "                             'lcount':coffee_plant.counts['lcount'],'bcount':coffee_plant.counts['bcount']})"
   ]
  },
  {
   "cell_type": "markdown",
   "id": "bebc6c1c-7ba7-4d14-a973-612cad6d974d",
   "metadata": {},
   "source": [
    "## Make some virus\n",
    "Now that we have the virus state functions defined, we can initiate the virus.\n",
    "\n",
    "All plants with id_no 2 (100 plants, one in each cell) get 2 infected leaves."
   ]
  },
  {
   "cell_type": "code",
   "execution_count": 9,
   "id": "2ec02a6e-9b20-48ce-a9ea-954ea1dda6e4",
   "metadata": {},
   "outputs": [],
   "source": [
    "for i in coffee_plants:\n",
    "    if i.id_no == 2:\n",
    "        healthy = i.counts['healthy']-5\n",
    "        i.set_counts({'healthy':healthy,'infected':5,'berries':i.counts['berries'],\n",
    "                             'lcount':i.counts['lcount'],'bcount':i.counts['bcount']})"
   ]
  },
  {
   "cell_type": "markdown",
   "id": "80ef7d6f-1858-44d7-86fe-d2737a0d57cb",
   "metadata": {},
   "source": [
    "So for each timestamp $t$ we run the following with (for now) a simple print statement to represent the data:"
   ]
  },
  {
   "cell_type": "code",
   "execution_count": 11,
   "id": "c7164125-c5a0-4e87-b195-1d57ab7e3a95",
   "metadata": {},
   "outputs": [],
   "source": [
    "for i in range(100):\n",
    "    counts = []\n",
    "    for j in coffee_plants:\n",
    "        make_leaves(j)\n",
    "        make_berries(j)\n",
    "        virus_spread(j,coffee_plants)\n",
    "        counts.append(j.counts)\n",
    "    if i == 0:\n",
    "        df = pd.DataFrame(counts)\n",
    "        df['t'] = i\n",
    "    else:\n",
    "        newdf = pd.DataFrame(counts)\n",
    "        newdf['t'] = i\n",
    "        df = pd.concat([df,newdf],axis=0)"
   ]
  },
  {
   "cell_type": "code",
   "execution_count": 12,
   "id": "f6305563-2b9d-4589-969e-5a148cde7a74",
   "metadata": {},
   "outputs": [],
   "source": [
    "a = df.groupby('t').mean()"
   ]
  },
  {
   "cell_type": "code",
   "execution_count": 17,
   "id": "c1582787-7bb6-4164-8874-f458390e9ad2",
   "metadata": {},
   "outputs": [
    {
     "data": {
      "text/plain": [
       "<AxesSubplot:title={'center':'Infected and Healthy leaves over time t'}, xlabel='t', ylabel='infected'>"
      ]
     },
     "execution_count": 17,
     "metadata": {},
     "output_type": "execute_result"
    },
    {
     "data": {
      "image/png": "[encoded data removed]",
      "text/plain": [
       "<Figure size 640x480 with 1 Axes>"
      ]
     },
     "metadata": {},
     "output_type": "display_data"
    }
   ],
   "source": [
    "import matplotlib.pyplot as plt\n",
    "plt.title('Infected and Healthy leaves over time t')\n",
    "sns.lineplot(data=a,x=a.index,y = 'infected')\n",
    "sns.lineplot(data=a,x=a.index,y = 'healthy')"
   ]
  },
  {
   "cell_type": "code",
   "execution_count": 18,
   "id": "56501472-3b80-4cbc-b9ea-448317569803",
   "metadata": {},
   "outputs": [
    {
     "data": {
      "text/plain": [
       "<AxesSubplot:xlabel='t', ylabel='berries'>"
      ]
     },
     "execution_count": 18,
     "metadata": {},
     "output_type": "execute_result"
    },
    {
     "data": {
      "image/png": "[encoded data removed]",
      "text/plain": [
       "<Figure size 640x480 with 1 Axes>"
      ]
     },
     "metadata": {},
     "output_type": "display_data"
    }
   ],
   "source": [
    "sns.lineplot(data=a,x=a.index,y = 'berries')"
   ]
  },
  {
   "cell_type": "code",
   "execution_count": null,
   "id": "5186754a-1cab-4967-8f35-92e64009c781",
   "metadata": {},
   "outputs": [],
   "source": []
  }
 ],
 "metadata": {
  "kernelspec": {
   "display_name": "mas-clas",
   "language": "python",
   "name": "master-class"
  },
  "language_info": {
   "codemirror_mode": {
    "name": "ipython",
    "version": 3
   },
   "file_extension": ".py",
   "mimetype": "text/x-python",
   "name": "python",
   "nbconvert_exporter": "python",
   "pygments_lexer": "ipython3",
   "version": "3.9.13"
  }
 },
 "nbformat": 4,
 "nbformat_minor": 5
}
