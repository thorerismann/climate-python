{
 "cells": [
  {
   "cell_type": "code",
   "execution_count": 1,
   "id": "e9c4bf60-418c-4c72-91d5-e243d488bd3b",
   "metadata": {},
   "outputs": [],
   "source": [
    "import numpy as np"
   ]
  },
  {
   "cell_type": "markdown",
   "id": "e5fb8ca6-421d-42c0-a48f-149612294874",
   "metadata": {},
   "source": [
    "# Homework 2\n",
    "Gabrial Erismann\n",
    "\n",
    "## Exercise 1\n",
    "\n",
    "* $A^T * B = M_{3,7}$ and $B^T * A = M_{7,3}$\n",
    "* $A * C^T = M_{10,4}$ and $C*A^T = M_{4,10}$ \n",
    "* $A * e = M_{10,1}$ and $e^T*A^T = M_{1,10}$\n",
    "* $A^T * f = M_{7,1}$ and $f^T*A = M_{1,7}$\n",
    "* $B * d = M_{10,1}$ and $d^T*B^T = M_{1,10}$\n",
    "* $B^T * f = M_{3,1}$ and $f^T*B = M_{1,3}$\n",
    "* $e^T * C^T = M_{1,4}$ and $C*e = M_{4,1}$\n",
    "* $d * e^T = M_{3,7}$ and $e*d^T = M_{7,3}$\n",
    "* $d * f^T = M_{3,10}$ and $f*d^T = M_{10,3}$\n",
    "* $f * e^T = M_{10,7}$ and $e*f^T = M_{7,§0}$"
   ]
  },
  {
   "cell_type": "markdown",
   "id": "891c9e80-5cf5-461e-8ad5-5b9219f26c82",
   "metadata": {},
   "source": [
    "## Exercise 2\n",
    "The easiest method to manually compute the determinant of the 3X3 matrix is the following:\n",
    "$$det(A) = 4\\begin{bmatrix} 6 & 8 \\\\ -3 & 2 \\end{bmatrix} - 7\\begin{bmatrix} -1 & 3 \\\\ 8 & 2 \\end{bmatrix} +3\\begin{bmatrix} -1 & 6 \\\\ 3 & -3 \\end{bmatrix}$$\n",
    "$$det(A) = 4*[6*2-8*(-3)]-7[(-1)*2-3*8]+3[(-1)*(-3)-6*3] = 281$$\n"
   ]
  },
  {
   "cell_type": "code",
   "execution_count": 2,
   "id": "777c6fd4-c055-460f-8cbd-24ff2908f5cb",
   "metadata": {},
   "outputs": [],
   "source": [
    "v1 = [4,7,3]\n",
    "v2 = [-1,6,8]\n",
    "v3 = [3,-3,2]\n",
    "a = np.array((v1,v2,v3))\n",
    "b = np.linalg.det(a)"
   ]
  },
  {
   "cell_type": "markdown",
   "id": "e384ac0e-c3a2-4a46-a41b-8eeb97578099",
   "metadata": {},
   "source": [
    "## Exercise 3\n",
    "\n",
    "1) For pairwise operators (°), we have $(A°B)^T = A^T ° B^T$ (at least +,/,*)\n",
    "\n",
    "2) The dot product `A%*%B` in R and `np.dot(A,B)` in numpy returns square matrices in both cases and in the case of $C$ returns a symmetrical matrix. "
   ]
  },
  {
   "cell_type": "code",
   "execution_count": 3,
   "id": "2f6e0a61-98dd-4833-9d92-56f21e5a25ba",
   "metadata": {},
   "outputs": [],
   "source": [
    "v1 = [2,8,5,1]\n",
    "v2 = [7,3,6,8]\n",
    "v3 = [9,0,5,6]\n",
    "a = np.array((v1,v2,v3))\n",
    "v1 = [4,2,1,6]\n",
    "v2 = [6,7,4,0]\n",
    "v3 = [6,8,0,1]\n",
    "b = np.array((v1,v2,v3))"
   ]
  },
  {
   "cell_type": "code",
   "execution_count": 4,
   "id": "d2b92eea-a1cb-48b9-85bd-73970fbce0e8",
   "metadata": {},
   "outputs": [
    {
     "data": {
      "text/plain": [
       "array([[ 8, 42, 54],\n",
       "       [16, 21,  0],\n",
       "       [ 5, 24,  0],\n",
       "       [ 6,  0,  6]])"
      ]
     },
     "execution_count": 4,
     "metadata": {},
     "output_type": "execute_result"
    }
   ],
   "source": [
    "# part 1 (addition / multiplication)\n",
    "(a+b).transpose()\n",
    "a.transpose() + b.transpose()\n",
    "(a*b).transpose()\n",
    "a.transpose() * b.transpose()"
   ]
  },
  {
   "cell_type": "code",
   "execution_count": 5,
   "id": "c67ed532-10d8-49d2-be22-219ee9c3fba4",
   "metadata": {},
   "outputs": [
    {
     "name": "stdout",
     "output_type": "stream",
     "text": [
      "[[35 88 77]\n",
      " [88 87 74]\n",
      " [77 74 60]]\n",
      "[[104 125  30  21]\n",
      " [ 50  37  20  48]\n",
      " [ 86  92  29  35]\n",
      " [ 88 106  33  12]]\n"
     ]
    }
   ],
   "source": [
    "# part 2\n",
    "c = np.dot(a,b.transpose())\n",
    "print(c)\n",
    "d = np.dot(a.transpose(),b)\n",
    "print(d)"
   ]
  },
  {
   "cell_type": "markdown",
   "id": "e7b90700-c72c-4774-92ad-a96a2bc92af5",
   "metadata": {},
   "source": [
    "## Exercise 4\n",
    "\n",
    "* The values are the same for $tr(A)$ and $tr(B)$ \n",
    "* $tr(A) + tr(B) = tr(A+B)$ at first glance"
   ]
  },
  {
   "cell_type": "code",
   "execution_count": 6,
   "id": "5b1cc537-ab67-4f87-8d42-3f8a353ceec8",
   "metadata": {},
   "outputs": [
    {
     "name": "stdout",
     "output_type": "stream",
     "text": [
      "182\n"
     ]
    }
   ],
   "source": [
    "def mytrace(x):\n",
    "    return np.trace(x)\n",
    "\n",
    "print(mytrace(c))"
   ]
  },
  {
   "cell_type": "code",
   "execution_count": 7,
   "id": "388979e8-6a41-4e51-9321-32fa56896539",
   "metadata": {},
   "outputs": [],
   "source": [
    "v1 = [2,3]\n",
    "v2 = [8,6]\n",
    "a = np.array((v1,v2))\n",
    "v1 = [4,6]\n",
    "v2 = [5,4]\n",
    "b = np.array((v1,v2))"
   ]
  },
  {
   "cell_type": "code",
   "execution_count": 8,
   "id": "76ca5c15-3a40-40ad-9a14-e081a7be0350",
   "metadata": {},
   "outputs": [
    {
     "name": "stdout",
     "output_type": "stream",
     "text": [
      "trace of a: 8\n",
      "trace of b: 8\n",
      "trace of a+b: 16\n"
     ]
    }
   ],
   "source": [
    "print(F'trace of a: {mytrace(a)}')\n",
    "print(F'trace of b: {mytrace(b)}')\n",
    "print(F'trace of a+b: {mytrace(a+b)}')"
   ]
  },
  {
   "cell_type": "code",
   "execution_count": null,
   "id": "31d0139b-d4fa-4746-8a5c-80fc61284cdd",
   "metadata": {},
   "outputs": [],
   "source": []
  }
 ],
 "metadata": {
  "kernelspec": {
   "display_name": "Python 3 (ipykernel)",
   "language": "python",
   "name": "python3"
  },
  "language_info": {
   "codemirror_mode": {
    "name": "ipython",
    "version": 3
   },
   "file_extension": ".py",
   "mimetype": "text/x-python",
   "name": "python",
   "nbconvert_exporter": "python",
   "pygments_lexer": "ipython3",
   "version": "3.9.12"
  }
 },
 "nbformat": 4,
 "nbformat_minor": 5
}
