{
 "cells": [
  {
   "cell_type": "code",
   "execution_count": 1,
   "id": "ce2ebcc1-8f4c-471b-a336-d77732c3b4db",
   "metadata": {},
   "outputs": [],
   "source": [
    "import numpy as np"
   ]
  },
  {
   "cell_type": "markdown",
   "id": "c5283718-07f4-4b5e-852c-1abd6fc8defc",
   "metadata": {},
   "source": [
    "# Homework 3\n",
    "Gabrial Erismann\n",
    "\n",
    "## Exercise 1"
   ]
  },
  {
   "cell_type": "code",
   "execution_count": 2,
   "id": "40c623f6-533b-44df-be06-51932312c2dc",
   "metadata": {},
   "outputs": [],
   "source": [
    "v1 = [-2,1,7,4,6]\n",
    "v2 = [1,-10,-6,-5,13]\n",
    "v3 = [7,-6,-16,8,5]\n",
    "v4 = [4,-5,8,0,7]\n",
    "v5 = [6,13,5,7,10]"
   ]
  },
  {
   "cell_type": "code",
   "execution_count": 3,
   "id": "82a077a9-e190-4ff4-b01e-35ca724da6f8",
   "metadata": {},
   "outputs": [
    {
     "data": {
      "text/plain": [
       "array([[ -2,   1,   7,   4,   6],\n",
       "       [  1, -10,  -6,  -5,  13],\n",
       "       [  7,  -6, -16,   8,   5],\n",
       "       [  4,  -5,   8,   0,   7],\n",
       "       [  6,  13,   5,   7,  10]])"
      ]
     },
     "execution_count": 3,
     "metadata": {},
     "output_type": "execute_result"
    }
   ],
   "source": [
    "a = np.array((v1,v2,v3,v4,v5))\n",
    "a"
   ]
  },
  {
   "cell_type": "markdown",
   "id": "de9ce23e-b859-4049-b39e-53efd4738c2b",
   "metadata": {},
   "source": [
    "## Exercise 2\n",
    "1) Symmetric as $a_{i,j} = a_{j,i} \\,\\,\\forall\\,\\,a_{i,j},a_{j,i}\\,\\in \\,\\,A $\n",
    "2) Nonsingular as $rank(A) = 5$ and $A$ has 5 columns, thus $A$ is full rank.\n",
    "3) As stated above.\n",
    "4) Not positive definite as not all eigenvalues > 0\n",
    "5) Not orthogonal as $A^TA \\neq I$"
   ]
  },
  {
   "cell_type": "code",
   "execution_count": 4,
   "id": "d0f8c12f-4296-4a86-b8d9-3636a6f3c87c",
   "metadata": {},
   "outputs": [
    {
     "data": {
      "text/plain": [
       "True"
      ]
     },
     "execution_count": 4,
     "metadata": {},
     "output_type": "execute_result"
    }
   ],
   "source": [
    "# 1 check transpose\n",
    "answer = a == a.transpose()\n",
    "np.all(answer)"
   ]
  },
  {
   "cell_type": "code",
   "execution_count": 5,
   "id": "18b8886c-231e-4ff0-ab40-13b92216616f",
   "metadata": {},
   "outputs": [
    {
     "data": {
      "text/plain": [
       "5"
      ]
     },
     "execution_count": 5,
     "metadata": {},
     "output_type": "execute_result"
    }
   ],
   "source": [
    "# 2 & 3 check the rank\n",
    "answer = np.linalg.matrix_rank(a)\n",
    "answer"
   ]
  },
  {
   "cell_type": "code",
   "execution_count": 6,
   "id": "19c1b1fe-7327-4402-a49d-4568a138510b",
   "metadata": {},
   "outputs": [
    {
     "data": {
      "text/plain": [
       "False"
      ]
     },
     "execution_count": 6,
     "metadata": {},
     "output_type": "execute_result"
    }
   ],
   "source": [
    "#4 check if positive definite\n",
    "def check_posdef(x):\n",
    "    return np.linalg.eigvals(a)>0\n",
    "np.all(check_posdef(a))"
   ]
  },
  {
   "cell_type": "code",
   "execution_count": 7,
   "id": "6b460b8b-4160-46d6-a895-2336db32aa13",
   "metadata": {},
   "outputs": [
    {
     "data": {
      "text/plain": [
       "False"
      ]
     },
     "execution_count": 7,
     "metadata": {},
     "output_type": "execute_result"
    }
   ],
   "source": [
    "# 5 check orthogonality\n",
    "np.all(np.round(np.dot(a.transpose(),a)) == np.identity)"
   ]
  },
  {
   "cell_type": "markdown",
   "id": "3fde53d9-4742-43ca-aa5e-5ac11d5ec8cc",
   "metadata": {},
   "source": [
    "## Exercise 3\n",
    "\n",
    "1) $CC^T = I$\n",
    "2) Since $A$ is a symmetric matrix as shown above and since $\\lambda_{i} \\neq \\lambda_{j} \\forall \\lambda$, the matrix $C$ defined by the eigenvectors of $A$ is orthogonal. Thus, by orthogonality, $C^T = C^{-1}$\n",
    "3) The inverse of $C$ is $C^T$ as demonstrated by 1) and 2)"
   ]
  },
  {
   "cell_type": "code",
   "execution_count": 8,
   "id": "2fce0847-de9d-4dcf-9548-e0c29da0ed68",
   "metadata": {},
   "outputs": [
    {
     "data": {
      "text/plain": [
       "array([[ 1.,  0.,  0., -0., -0.],\n",
       "       [ 0.,  1., -0.,  0., -0.],\n",
       "       [ 0., -0.,  1.,  0., -0.],\n",
       "       [-0.,  0.,  0.,  1.,  0.],\n",
       "       [-0., -0., -0.,  0.,  1.]])"
      ]
     },
     "execution_count": 8,
     "metadata": {},
     "output_type": "execute_result"
    }
   ],
   "source": [
    "# demonstrate CCtranpose = I\n",
    "c = np.linalg.eig(a)[1]\n",
    "c_ = c.transpose()\n",
    "result = np.round(np.dot(c,c_))\n",
    "result"
   ]
  },
  {
   "cell_type": "markdown",
   "id": "09437005-37aa-48bf-bc79-5d51d5f36de4",
   "metadata": {},
   "source": [
    "# Exercise 4\n",
    "\n",
    "One way to get the inverse matrix is to use the eigendecomposition that is, $$A^{-1} = C\\Lambda^{-1}C^{-1}$$\n",
    "\n",
    "where $\\Lambda_{i,i} =  \\lambda_{i}$, and $C$ is the matrix whose rows are formed by the corresponding eigenvectors of $A$. Here the inverse matrices are given simply by the already calculated eigenvalues and eigenvectors. First $\\Lambda^{-1}_{i,j} = 1/\\lambda_i \\,\\, \\forall i=j, \\,\\,and \\,\\,\\Lambda^{-1}_{i,j} = 0 \\,\\,\\forall \\,\\, i \\neq j$ and second $C^{-1}= C^T$ as shown in exercise 3."
   ]
  },
  {
   "cell_type": "code",
   "execution_count": 9,
   "id": "31dd1566-6fef-416f-a0a3-c466bdda6df5",
   "metadata": {},
   "outputs": [],
   "source": [
    "# get inverse diagonal matrix of eigenvalues\n",
    "diag = np.diag(1/(np.linalg.eig(a)[0]))\n",
    "\n",
    "# calculate spectral decompostion to identify inverse\n",
    "inverse = np.dot(np.dot(c,diag),c_)"
   ]
  },
  {
   "cell_type": "code",
   "execution_count": 10,
   "id": "745181d8-3278-4503-b61d-ad8d8dc8f308",
   "metadata": {},
   "outputs": [
    {
     "data": {
      "text/plain": [
       "array([[-0.13426891, -0.02967414,  0.01689683,  0.10638671,  0.03621862],\n",
       "       [-0.02967414,  0.01046272, -0.02641489, -0.0531544 ,  0.05461847],\n",
       "       [ 0.01689683, -0.02641489, -0.01832519,  0.05849126, -0.00758004],\n",
       "       [ 0.10638671, -0.0531544 ,  0.05849126, -0.00175298, -0.02274985],\n",
       "       [ 0.03621862,  0.05461847, -0.00758004, -0.02274985,  0.02697974]])"
      ]
     },
     "execution_count": 10,
     "metadata": {},
     "output_type": "execute_result"
    }
   ],
   "source": [
    "inverse"
   ]
  },
  {
   "cell_type": "code",
   "execution_count": 11,
   "id": "7c7c03cc-f365-47fb-b8e5-434b3a5d4900",
   "metadata": {},
   "outputs": [
    {
     "data": {
      "text/plain": [
       "array([[-0.13426891, -0.02967414,  0.01689683,  0.10638671,  0.03621862],\n",
       "       [-0.02967414,  0.01046272, -0.02641489, -0.0531544 ,  0.05461847],\n",
       "       [ 0.01689683, -0.02641489, -0.01832519,  0.05849126, -0.00758004],\n",
       "       [ 0.10638671, -0.0531544 ,  0.05849126, -0.00175298, -0.02274985],\n",
       "       [ 0.03621862,  0.05461847, -0.00758004, -0.02274985,  0.02697974]])"
      ]
     },
     "execution_count": 11,
     "metadata": {},
     "output_type": "execute_result"
    }
   ],
   "source": [
    "# check answer with numpy's built-in inverse function\n",
    "np.linalg.inv(a)"
   ]
  },
  {
   "cell_type": "code",
   "execution_count": null,
   "id": "7b9db0a9-c2a9-472a-a7d7-5385bd962511",
   "metadata": {},
   "outputs": [],
   "source": []
  }
 ],
 "metadata": {
  "kernelspec": {
   "display_name": "mas-clas",
   "language": "python",
   "name": "master-class"
  },
  "language_info": {
   "codemirror_mode": {
    "name": "ipython",
    "version": 3
   },
   "file_extension": ".py",
   "mimetype": "text/x-python",
   "name": "python",
   "nbconvert_exporter": "python",
   "pygments_lexer": "ipython3",
   "version": "3.9.12"
  }
 },
 "nbformat": 4,
 "nbformat_minor": 5
}
