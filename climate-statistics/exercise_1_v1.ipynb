{
 "cells": [
  {
   "cell_type": "markdown",
   "id": "ce3bf141-6712-4c94-af24-576aa8c4bcad",
   "metadata": {},
   "source": [
    "## Homework 1\n",
    "Gabrial Erismann"
   ]
  },
  {
   "cell_type": "code",
   "execution_count": 1,
   "id": "9dbe698d-2b4f-433f-97b0-263b1debc81f",
   "metadata": {},
   "outputs": [],
   "source": [
    "import numpy as np"
   ]
  },
  {
   "cell_type": "markdown",
   "id": "0033d854-df8e-4142-a323-fe062f9fa929",
   "metadata": {},
   "source": [
    "## Exercise 1\n",
    "\n",
    "*a* and *b* are first entered as Python `lists` which are an ordered collection of objects. They are then turned into numpy `arrays` which can be seen as matrices of dimension (1,3) or a row vector."
   ]
  },
  {
   "cell_type": "code",
   "execution_count": 2,
   "id": "e6834c03-a10b-4507-a807-dbf9a9571e51",
   "metadata": {},
   "outputs": [
    {
     "name": "stdout",
     "output_type": "stream",
     "text": [
      "<class 'list'>\n",
      "<class 'numpy.ndarray'>\n"
     ]
    }
   ],
   "source": [
    "a =  [2,3,4]\n",
    "b = [-1,3,0]\n",
    "print(type(a))\n",
    "\n",
    "a_ = np.array(a)\n",
    "b_ = np.array(b)\n",
    "print(type(a_))"
   ]
  },
  {
   "cell_type": "markdown",
   "id": "7f7346a4-d77c-4e6a-859e-79e36b9dbdc4",
   "metadata": {},
   "source": [
    "## Exercise 2\n",
    "In numpy the transpose of a 1d array is the same 1d array. In order to see the transpose, one should make a matrix *c* using *a* and *b* as rows and then comparing *c* and $c^T$"
   ]
  },
  {
   "cell_type": "code",
   "execution_count": 3,
   "id": "948504d0-5e2b-484f-ac70-aaa0ef9c4793",
   "metadata": {},
   "outputs": [
    {
     "name": "stdout",
     "output_type": "stream",
     "text": [
      " b_ is an matrix of shape: \t (3,) \n",
      " b_ transpose is a matrix of shape: \t (3,)\n",
      "[-1  3  0]\n"
     ]
    }
   ],
   "source": [
    "print(F' b_ is an matrix of shape: \\t {b_.shape} \\n b_ transpose is a matrix of shape: \\t {(b_.transpose()).shape}')\n",
    "print(b_)"
   ]
  },
  {
   "cell_type": "code",
   "execution_count": 4,
   "id": "3838e4a7-a9e4-409e-8ce9-3aba379aea71",
   "metadata": {},
   "outputs": [
    {
     "name": "stdout",
     "output_type": "stream",
     "text": [
      " c is an matrix of shape: (2, 3) \n",
      " c transpose is a matrix of shape: (3, 2)\n",
      " c is \n",
      " [[ 2  3  4]\n",
      " [-1  3  0]] \n",
      " and c transpose is \n",
      " [[ 2 -1]\n",
      " [ 3  3]\n",
      " [ 4  0]]\n"
     ]
    }
   ],
   "source": [
    "c = np.array((a_,b_))\n",
    "print(F' c is an matrix of shape: {c.shape} \\n c transpose is a matrix of shape: {(c.transpose()).shape}')\n",
    "print( F' c is \\n {c} \\n and c transpose is \\n {c.transpose()}')"
   ]
  },
  {
   "cell_type": "markdown",
   "id": "be7eee68-24a9-428f-a259-1e8bb814d39d",
   "metadata": {},
   "source": [
    "## Exercise 3\n",
    "\n",
    "The difference between `t(a)*b` and `t(a)%*%b` in R is the difference beteen `a.transpose()*b` and `np.dot(a_,b_) or np.outer(a_,b_)` in numpy, that is to say the difference between pairwise multiplication and matrix (dot) multiplication resulting in either in a 1x1 matrix (np.dot) or in a 3x3 matrix (np.outer)"
   ]
  },
  {
   "cell_type": "code",
   "execution_count": 5,
   "id": "ed3ac386-704b-49c4-afe3-7bc2262bdae8",
   "metadata": {},
   "outputs": [
    {
     "name": "stdout",
     "output_type": "stream",
     "text": [
      "[1 6 4]\n"
     ]
    }
   ],
   "source": [
    "# c = a + b\n",
    "c = a_ + b_\n",
    "print(c)"
   ]
  },
  {
   "cell_type": "code",
   "execution_count": 10,
   "id": "323224c8-fb72-4b09-aece-89a525a823df",
   "metadata": {},
   "outputs": [
    {
     "name": "stdout",
     "output_type": "stream",
     "text": [
      "pairwise multiplication is [-2  9  0]\n",
      "dot product a dot b_transpose is 7\n",
      "dot product b dot a_transpose is \n",
      "[[-2  6  0]\n",
      " [-3  9  0]\n",
      " [-4 12  0]]\n"
     ]
    }
   ],
   "source": [
    "# c = transpose (d1,d2,d3)\n",
    "c = (a_*b_).transpose()\n",
    "print(F'pairwise multiplication is {c}')\n",
    "c = np.dot(a_,b_)\n",
    "print(F'dot product a dot b_transpose is {c}')\n",
    "c = np.outer(a_,b_)\n",
    "print(F'dot product b dot a_transpose is \\n{c}')"
   ]
  },
  {
   "cell_type": "markdown",
   "id": "8b66cf23-fb4e-45d5-897a-bcaaf1230277",
   "metadata": {},
   "source": [
    "## Exercise 4"
   ]
  },
  {
   "cell_type": "code",
   "execution_count": 7,
   "id": "8d118460-81b6-429f-92ab-bf652e8bc8e2",
   "metadata": {},
   "outputs": [
    {
     "name": "stdout",
     "output_type": "stream",
     "text": [
      "[1 6]\n"
     ]
    }
   ],
   "source": [
    "c = (a_[0:2] + b[0:2]).transpose()\n",
    "print(c)"
   ]
  },
  {
   "cell_type": "markdown",
   "id": "6e17e558-ccc8-4f34-9198-098a6218c8cd",
   "metadata": {},
   "source": [
    "## Exercise 5"
   ]
  },
  {
   "cell_type": "code",
   "execution_count": 8,
   "id": "c7b79d91-28c3-4254-9230-ecc060d6feda",
   "metadata": {},
   "outputs": [
    {
     "name": "stdout",
     "output_type": "stream",
     "text": [
      "testing f(x): \n",
      " [2.44948974 1.41421356 7.14142843]\n",
      "testing f(a_): \n",
      " [2.44948974 3.31662479 4.24264069]\n"
     ]
    }
   ],
   "source": [
    "def myfunc(x):\n",
    "    return np.sqrt(np.square(x) + 2)\n",
    "x = np.array((-2,0,7))\n",
    "a = myfunc(x)\n",
    "print(F'testing f(x): \\n {a}')\n",
    "b = myfunc(a_)\n",
    "print(F'testing f(a_): \\n {b}')"
   ]
  },
  {
   "cell_type": "markdown",
   "id": "77e7b96d-74b7-40ec-960d-81a9d3b21b21",
   "metadata": {},
   "source": [
    "## Exercise 6\n",
    "I don't know but if I had to guess I would say its because True/False can be stored simply as 1/0."
   ]
  },
  {
   "cell_type": "code",
   "execution_count": 9,
   "id": "c1dad65d-6032-4dc5-bd8e-6c22dd9e6890",
   "metadata": {},
   "outputs": [
    {
     "name": "stdout",
     "output_type": "stream",
     "text": [
      "The created array look like expected [ True False  True False  True] \n",
      "and converts to int by multiplying by 1 [1 0 1 0 1]\n"
     ]
    }
   ],
   "source": [
    "truths = np.array((True,False,True,False,True))\n",
    "print(F'The created array look like expected {truths} \\nand converts to int by multiplying by 1 {truths*1}')"
   ]
  },
  {
   "cell_type": "code",
   "execution_count": null,
   "id": "dcee3d02-495f-4305-b306-eb87927ae521",
   "metadata": {},
   "outputs": [],
   "source": []
  },
  {
   "cell_type": "code",
   "execution_count": null,
   "id": "702e7bed-50b3-410b-8112-44e08f1481d1",
   "metadata": {},
   "outputs": [],
   "source": []
  }
 ],
 "metadata": {
  "kernelspec": {
   "display_name": "mas-clas",
   "language": "python",
   "name": "master-class"
  },
  "language_info": {
   "codemirror_mode": {
    "name": "ipython",
    "version": 3
   },
   "file_extension": ".py",
   "mimetype": "text/x-python",
   "name": "python",
   "nbconvert_exporter": "python",
   "pygments_lexer": "ipython3",
   "version": "3.9.12"
  }
 },
 "nbformat": 4,
 "nbformat_minor": 5
}
