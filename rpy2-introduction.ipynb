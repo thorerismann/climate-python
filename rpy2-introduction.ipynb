{
 "cells": [
  {
   "cell_type": "markdown",
   "id": "fcfaa173-8777-4816-9570-256a4139615d",
   "metadata": {},
   "source": [
    "# Introduction - Writing R in Python\n",
    "\n",
    "## Motivation\n",
    "\n",
    "This notebook introduces the [rpy2 package](https://rpy2.github.io/doc/latest/html/index.html) that I will use to interactively switch back and forth between R objects, functions and methods and Python objects, functions and methods. While it is already possible to run R-scripts within Python, this provides a more interactive way to do so.\n",
    "\n",
    "At the moment, there will be little to no rpy2 in the folder, but I will slowly construct examples with rpy2 as the opportunity/need arises.\n",
    "\n",
    "## Environment set-up \n",
    "\n",
    "I reccomend using Anaconda and following more or less the steps laid out below if you are new, otherwise, you know what to do already. Note that since rpy2 must be installed via pip, __conda cannot be used to manage packages in the virtual environment after rpy2 is installed__. Thus, install as many of the required packages as possible __before__ installing rpy2. Pip will work to install packages later of course, but anaconda provides a stronger guarantee of compatibility. \n",
    "\n",
    "Anyway, in my case, I had (unwisely) already installed my needed packages in my base installation so my set-up went like the below.\n",
    "\n",
    "* Update conda: ```conda update conda```\n",
    "* Update packages within base environment: ```conda update --all```\n",
    "* Clone base environment to create new environment: ```conda create rpy_env --clone base``` OR Create new environment ```conda create --name rpy_env```\n",
    "* Activate new environment: ```conda activate rpy_env```\n",
    "* Install whatever other packages you need now via conda-forge! ```conda install -c conda-forge <package>``` (```jupyter-lab```, ```numpy```,```pandas```,```seaborn```)\n",
    "* Install rpy2 via pip ```pip install rpy2```\n",
    "* Add the environment to a Jupyter notebook kernel:```python -m ipykernel install --user --name rpy_env --display-name \"rpy_env\"```\n",
    "\n",
    "Reminder: the standard packages needed are:\n",
    "* Jupyter Lab\n",
    "* Numpy\n",
    "* Seaborn\n",
    "* Pandas\n",
    "\n",
    "NOTE: Each folder may have additional package requirements and instructions. Look at the README.md file in each folder if the notebook doesn't run!\n",
    "\n",
    "At this point, you should be able to launch Jupyter lab and create a notebook with rpy_env in the kernel.\n",
    "\n",
    "__ref:__ Compiled from stackexchange and Anaconda documentation"
   ]
  },
  {
   "cell_type": "markdown",
   "id": "8e73beca-2944-49fd-85e5-a97ff184c1e7",
   "metadata": {},
   "source": [
    "## Working with rpy2\n",
    "\n",
    "First, import the required packages"
   ]
  },
  {
   "cell_type": "code",
   "execution_count": 1,
   "id": "934c7c09-0210-4ec3-b369-cce56de34868",
   "metadata": {},
   "outputs": [],
   "source": [
    "# Pandas / Numpy <-> R Dataframe / Array\n",
    "\n",
    "import pandas as pd\n",
    "import numpy as np\n",
    "import rpy2.robjects as ro\n",
    "from rpy2.robjects.packages import importr\n",
    "from rpy2.robjects import pandas2ri\n",
    "from rpy2.robjects.conversion import localconverter"
   ]
  },
  {
   "cell_type": "markdown",
   "id": "4d2cecc1-a112-46a4-9937-8d2323705e44",
   "metadata": {},
   "source": [
    "### Send a Python Object to an R Object\n",
    "\n",
    "Here I create a panda dataframe out of a numpy array using then use the panda conversion package to turn it into an R dataframe. There is a direct numpy conversion as well - works basically the same, see the documentation."
   ]
  },
  {
   "cell_type": "code",
   "execution_count": 2,
   "id": "5cef874f-92d5-4ac8-86ee-753e8f6e17c2",
   "metadata": {},
   "outputs": [
    {
     "name": "stdout",
     "output_type": "stream",
     "text": [
      "       0                1                 2                3         \n",
      " Min.   :0.3910   Min.   :0.08131   Min.   :0.1440   Min.   :0.1983  \n",
      " 1st Qu.:0.4988   1st Qu.:0.10158   1st Qu.:0.2640   1st Qu.:0.3194  \n",
      " Median :0.6404   Median :0.52276   Median :0.5576   Median :0.4600  \n",
      " Mean   :0.6262   Mean   :0.45600   Mean   :0.4278   Mean   :0.5053  \n",
      " 3rd Qu.:0.7297   3rd Qu.:0.67382   3rd Qu.:0.5578   3rd Qu.:0.7244  \n",
      " Max.   :0.8710   Max.   :0.90051   Max.   :0.6156   Max.   :0.8242  \n",
      "       4          \n",
      " Min.   :0.08903  \n",
      " 1st Qu.:0.31151  \n",
      " Median :0.35192  \n",
      " Mean   :0.43158  \n",
      " 3rd Qu.:0.51563  \n",
      " Max.   :0.88982  \n",
      "\n"
     ]
    }
   ],
   "source": [
    "# Create a panda dataframe -> send to R data frame \n",
    "\n",
    "# use numpy's random function to create a dataframe of random values\n",
    "pd_df = pd.DataFrame(np.random.rand(5,5))\n",
    "\n",
    "# convert from panda into py2r\n",
    "with localconverter(ro.default_converter + pandas2ri.converter):\n",
    "    r_df = ro.conversion.py2rpy(pd_df)\n",
    "    \n",
    "# import r base to use the summary function\n",
    "base = importr('base')\n",
    "\n",
    "# use R's summary function on an R Dataframe and print the results\n",
    "print(base.summary(r_df))"
   ]
  },
  {
   "cell_type": "markdown",
   "id": "5466bced-1db4-432d-bbe4-35463d5edaf2",
   "metadata": {},
   "source": [
    "### Use an R  function on a panda dataframe\n",
    "Here we define a function in R and call it in Python using ```pd.apply()``` to add 5 to each element in one column of our pandas dataframe. We then add 5 to the R dataframe ```r_df``` and convert it to a panda dataframe.\n",
    "\n",
    "Note the need to call ```localconverter()``` in each case! Failing to call this function will result in scrambled data. There may be some other ways around it, but for this repository I will use this method."
   ]
  },
  {
   "cell_type": "code",
   "execution_count": null,
   "id": "8d3f89d1-f033-41f9-8be5-215ff3322aa9",
   "metadata": {},
   "outputs": [],
   "source": []
  },
  {
   "cell_type": "code",
   "execution_count": 3,
   "id": "1d10dba7-95e3-455d-9d9c-b866b1de9ca2",
   "metadata": {},
   "outputs": [
    {
     "name": "stdout",
     "output_type": "stream",
     "text": [
      "       zero       one       two     three      four\n",
      "0  0.729691  5.900511  0.143963  0.198339  0.311507\n",
      "1  0.870968  5.522759  0.557564  0.724392  0.089032\n",
      "2  0.391015  5.081306  0.615648  0.824165  0.515625\n",
      "3  0.640358  5.101580  0.557766  0.460047  0.889818\n",
      "4  0.498767  5.673823  0.263953  0.319388  0.351916\n"
     ]
    },
    {
     "data": {
      "text/html": [
       "<div>\n",
       "<style scoped>\n",
       "    .dataframe tbody tr th:only-of-type {\n",
       "        vertical-align: middle;\n",
       "    }\n",
       "\n",
       "    .dataframe tbody tr th {\n",
       "        vertical-align: top;\n",
       "    }\n",
       "\n",
       "    .dataframe thead th {\n",
       "        text-align: right;\n",
       "    }\n",
       "</style>\n",
       "<table border=\"1\" class=\"dataframe\">\n",
       "  <thead>\n",
       "    <tr style=\"text-align: right;\">\n",
       "      <th></th>\n",
       "      <th>0</th>\n",
       "      <th>1</th>\n",
       "      <th>2</th>\n",
       "      <th>3</th>\n",
       "      <th>4</th>\n",
       "    </tr>\n",
       "  </thead>\n",
       "  <tbody>\n",
       "    <tr>\n",
       "      <th>0</th>\n",
       "      <td>5.729691</td>\n",
       "      <td>5.900511</td>\n",
       "      <td>5.143963</td>\n",
       "      <td>5.198339</td>\n",
       "      <td>5.311507</td>\n",
       "    </tr>\n",
       "    <tr>\n",
       "      <th>1</th>\n",
       "      <td>5.870968</td>\n",
       "      <td>5.522759</td>\n",
       "      <td>5.557564</td>\n",
       "      <td>5.724392</td>\n",
       "      <td>5.089032</td>\n",
       "    </tr>\n",
       "    <tr>\n",
       "      <th>2</th>\n",
       "      <td>5.391015</td>\n",
       "      <td>5.081306</td>\n",
       "      <td>5.615648</td>\n",
       "      <td>5.824165</td>\n",
       "      <td>5.515625</td>\n",
       "    </tr>\n",
       "    <tr>\n",
       "      <th>3</th>\n",
       "      <td>5.640358</td>\n",
       "      <td>5.101580</td>\n",
       "      <td>5.557766</td>\n",
       "      <td>5.460047</td>\n",
       "      <td>5.889818</td>\n",
       "    </tr>\n",
       "    <tr>\n",
       "      <th>4</th>\n",
       "      <td>5.498767</td>\n",
       "      <td>5.673823</td>\n",
       "      <td>5.263953</td>\n",
       "      <td>5.319388</td>\n",
       "      <td>5.351916</td>\n",
       "    </tr>\n",
       "  </tbody>\n",
       "</table>\n",
       "</div>"
      ],
      "text/plain": [
       "          0         1         2         3         4\n",
       "0  5.729691  5.900511  5.143963  5.198339  5.311507\n",
       "1  5.870968  5.522759  5.557564  5.724392  5.089032\n",
       "2  5.391015  5.081306  5.615648  5.824165  5.515625\n",
       "3  5.640358  5.101580  5.557766  5.460047  5.889818\n",
       "4  5.498767  5.673823  5.263953  5.319388  5.351916"
      ]
     },
     "execution_count": 3,
     "metadata": {},
     "output_type": "execute_result"
    }
   ],
   "source": [
    "# use an r function on a panda dataframe\n",
    "\n",
    "# rename df columns to make them easy to call\n",
    "pd_df.columns = ['zero','one','two','three','four']\n",
    "\n",
    "# define a function in r\n",
    "add_five_r = ro.r('''\n",
    "    add_five <- function(x) {\n",
    "        return(x + 5)\n",
    "    }\n",
    "''')\n",
    "\n",
    "# apply function to all elements of the \"one\" column in the panda df\n",
    "pd_df.one= pd_df.one.apply(lambda x: add_five_r(x)[0])\n",
    "print(pd_df)\n",
    "\n",
    "# use my function defined in r to add 5 to my r data frame, then convert to panda df\n",
    "with localconverter(ro.default_converter + pandas2ri.converter):\n",
    "    df_r_plus_five = add_five_r(r_df)\n",
    "df_r_plus_five"
   ]
  },
  {
   "cell_type": "markdown",
   "id": "83bfe3c0-b433-4299-9edf-5e9367718d80",
   "metadata": {},
   "source": [
    "### Import data from R -> Use in Pandas\n",
    "Here I import the Iris dataset from R, convert it into a pandas dataframe and then print a table of the mean values by species using the ```pandas.groupby()``` function."
   ]
  },
  {
   "cell_type": "code",
   "execution_count": 6,
   "id": "973f9931-69a0-4f4e-b771-6eb168a386fb",
   "metadata": {},
   "outputs": [
    {
     "data": {
      "text/html": [
       "<div>\n",
       "<style scoped>\n",
       "    .dataframe tbody tr th:only-of-type {\n",
       "        vertical-align: middle;\n",
       "    }\n",
       "\n",
       "    .dataframe tbody tr th {\n",
       "        vertical-align: top;\n",
       "    }\n",
       "\n",
       "    .dataframe thead th {\n",
       "        text-align: right;\n",
       "    }\n",
       "</style>\n",
       "<table border=\"1\" class=\"dataframe\">\n",
       "  <thead>\n",
       "    <tr style=\"text-align: right;\">\n",
       "      <th></th>\n",
       "      <th>Sepal.Length</th>\n",
       "      <th>Sepal.Width</th>\n",
       "      <th>Petal.Length</th>\n",
       "      <th>Petal.Width</th>\n",
       "    </tr>\n",
       "    <tr>\n",
       "      <th>Species</th>\n",
       "      <th></th>\n",
       "      <th></th>\n",
       "      <th></th>\n",
       "      <th></th>\n",
       "    </tr>\n",
       "  </thead>\n",
       "  <tbody>\n",
       "    <tr>\n",
       "      <th>setosa</th>\n",
       "      <td>5.006</td>\n",
       "      <td>3.428</td>\n",
       "      <td>1.462</td>\n",
       "      <td>0.246</td>\n",
       "    </tr>\n",
       "    <tr>\n",
       "      <th>versicolor</th>\n",
       "      <td>5.936</td>\n",
       "      <td>2.770</td>\n",
       "      <td>4.260</td>\n",
       "      <td>1.326</td>\n",
       "    </tr>\n",
       "    <tr>\n",
       "      <th>virginica</th>\n",
       "      <td>6.588</td>\n",
       "      <td>2.974</td>\n",
       "      <td>5.552</td>\n",
       "      <td>2.026</td>\n",
       "    </tr>\n",
       "  </tbody>\n",
       "</table>\n",
       "</div>"
      ],
      "text/plain": [
       "            Sepal.Length  Sepal.Width  Petal.Length  Petal.Width\n",
       "Species                                                         \n",
       "setosa             5.006        3.428         1.462        0.246\n",
       "versicolor         5.936        2.770         4.260        1.326\n",
       "virginica          6.588        2.974         5.552        2.026"
      ]
     },
     "execution_count": 6,
     "metadata": {},
     "output_type": "execute_result"
    }
   ],
   "source": [
    "# import data from R, send to Pandas dataframe\n",
    "\n",
    "from rpy2.robjects.packages import data\n",
    "import seaborn as sns\n",
    "\n",
    "# import r's datasets library\n",
    "datasets = importr('datasets')\n",
    "\n",
    "with localconverter(ro.default_converter + pandas2ri.converter):\n",
    "    iris = data(datasets).fetch('iris')['iris']\n",
    "\n",
    "grouped = iris.groupby(['Species']).agg({'Sepal.Length': 'mean','Sepal.Width':'mean', 'Petal.Length':'mean', 'Petal.Width':'mean'})\n",
    "grouped"
   ]
  }
 ],
 "metadata": {
  "kernelspec": {
   "display_name": "myrpy)",
   "language": "python",
   "name": "myrpy"
  },
  "language_info": {
   "codemirror_mode": {
    "name": "ipython",
    "version": 3
   },
   "file_extension": ".py",
   "mimetype": "text/x-python",
   "name": "python",
   "nbconvert_exporter": "python",
   "pygments_lexer": "ipython3",
   "version": "3.9.13"
  }
 },
 "nbformat": 4,
 "nbformat_minor": 5
}
