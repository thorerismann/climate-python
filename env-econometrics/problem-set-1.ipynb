{
 "cells": [
  {
   "cell_type": "markdown",
   "id": "71079fc0-07eb-4620-a583-15deab3d870d",
   "metadata": {},
   "source": [
    "# Homework 1\n",
    "Gabrial Erismann\n",
    "\n",
    "## Exercise 1\n",
    "\n",
    "### i\n",
    "The average treatment effect $ATE$, Average treatment of controls $ATC$ and average treatment of treated $ATT$ is given by:\n",
    "$$ATE = \\mathbb{E}[y_{1i}-y_{0i}]$$\n",
    "$$ATT = \\mathbb{E}[y_{1i}-y_{0i} | D_i = 1]$$\n",
    "$$ATC = \\mathbb{E}[y_{1i}-y_{0i} | D_i = 0]$$\n",
    "\n",
    "The naive estimator of $ATE$ is $\\hat{\\beta}  = ATT-ATC$\n",
    "\n",
    "In this case the estimators are not going to be the same due to the small sample size.\n",
    "\n",
    "### ii\n",
    "Each estimator gives information about different types of the population. If we want to know what the effect of heat *will be* on a population that has not been exposed, we look at the $ATE$. If we want to know what the effect of heat *is* on people exposed we look at $ATT$. If we want to know the effect of \"no heat\" then we can use the $ATC$.\n",
    "\n",
    "\n",
    "### iii\n",
    "It does not make sense that the chance of death would increase by so much, in other words $\\beta < \\hat{\\beta}$.\n",
    "\n",
    "The bias is given by $\\mathbb{E}[Y_{0i}|D_i = 1] - \\mathbb{E}[Y_{0i}|D_i = 0] = -1/3$\n",
    "\n",
    "### iv\n",
    "\n",
    "This would be a case of ommitted variable bias if pollution was compromising the health of one or more of the people in the $D_i = 0$ or $D_i = 1$ group."
   ]
  },
  {
   "cell_type": "code",
   "execution_count": null,
   "id": "0db18578-e2d0-4ffe-b0ff-ba2ca1c0df02",
   "metadata": {},
   "outputs": [],
   "source": [
    "# unsure about iv - doesn't seem to relate correctly to the question ?"
   ]
  },
  {
   "cell_type": "code",
   "execution_count": 8,
   "id": "c950437c-4dcc-40ee-9ef7-86238a570203",
   "metadata": {},
   "outputs": [],
   "source": [
    "# calculations problem set 1\n",
    "ate = (1/6)*((1-1) + (1-0) + (1-0) + (0-0) + (0-0) + (1-0))\n",
    "att = (1/3)*((1-1) + (1-0) + (1-0))\n",
    "atc = (1/3)*((0-0) + (0-0) + (1-0))\n",
    "ate_est = att-atc"
   ]
  },
  {
   "cell_type": "markdown",
   "id": "00542d36-58ce-4dfe-aad2-fbba9d6e70f5",
   "metadata": {},
   "source": [
    "## Exercise 2\n",
    "\n",
    "### i \n",
    "\n",
    "#### a\n",
    "Yes, I exepct attenuation bias. \n",
    "\n",
    "#### b\n",
    "There is always some amount of measurement and classification error, this is the nature of measuring and classifying. Concretely, there could be some errors in the classification of doctors and professions that are similar to doctors. The other sources of measurement error would be in mortality and temperature. The temperature people feel is often higher at night than the temperature at the Automatic Weather Stations where official tempereature is recorded. Thus the actual temperature is different than the recorded temperature and this difference is further not constant throughout the day (higher at night than during the day).\n",
    "\n",
    "Furthermore, as noted in the slides, the relationship between heat and mortality is far from linear, yet it is estimated as a linear regression parameter. This means that there will be a significant deviation between the actual value and the modeled value, even accounting for the *urban heat island* effect mentioned previously.\n",
    "\n",
    "#### c\n",
    "\n",
    "This implies that there will be some amount of bias. This is given by:\n",
    "\n",
    "$$ Y_i = \\alpha + \\beta_{ATE}D_i + \\beta_{ATE}\\nu_i + \\epsilon_i $$\n",
    "\n",
    "Fundamentally -> Do I expect the size of the bias to increase as any of the variables increase?\n",
    "\n",
    "The urban heat island effect is stronger in stronger heat, but the magnitude of this difference is still somewhat small and should remain directionally the same. It is possible that large numbers of elderly dying might result in a poorer/misclassification of death, but I would still expect their death to be recorded within a day of it happening in France. At the same time, the attenuation error due to misspecification of the model could very easily increase or decrease with the magnitude of the variable.\n",
    "\n",
    "#### d\n",
    "\n",
    "In terms of fixing the measurement error, that first comes down to thinking about the underlying data and trying to find comparable...\n",
    "\n",
    "In terms of the model mis-specification, that could mean including a $\\hat{\\beta_{sqd}}X^2$ term...\n",
    "\n",
    "### ii\n",
    "\n",
    "yes, I expect omitted variable bias.\n",
    "\n",
    "there are a number of factors that influence mortality.\n",
    "\n",
    "this could include:\n",
    "1) the presenece of other healthcare profs / hc spending in commune\n",
    "2) presence of specific gov programs\n",
    "3) proportion of old people in the commune\n",
    "4) normal temperature in their commune (less likely to be exposed to heat -> less prepared, less resistant)\n",
    "\n",
    "For 1/2 it could go either way: if other proxies for access to healthcare are distributed differently than doctors, this can have a positive effect on living (more nurses, caregivers, etc) and a negative effect (fewer of those people). Same for presence/lack of gov subsidies for AC cooling or other such policies.\n",
    "\n",
    "More old people in the commune would mean that more old people would die in one rather than the other.\n",
    "\n",
    "Deviation from the normal temperature of the region could be as important as the actual temperature. E.g. 20 C at night in Bern is different than 20 C at night in Italy. "
   ]
  },
  {
   "cell_type": "code",
   "execution_count": null,
   "id": "ea88ff3a-1ac2-401f-b17b-c32739017519",
   "metadata": {},
   "outputs": [],
   "source": []
  }
 ],
 "metadata": {
  "kernelspec": {
   "display_name": "mas-clas",
   "language": "python",
   "name": "master-class"
  },
  "language_info": {
   "codemirror_mode": {
    "name": "ipython",
    "version": 3
   },
   "file_extension": ".py",
   "mimetype": "text/x-python",
   "name": "python",
   "nbconvert_exporter": "python",
   "pygments_lexer": "ipython3",
   "version": "3.9.12"
  }
 },
 "nbformat": 4,
 "nbformat_minor": 5
}
